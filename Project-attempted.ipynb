{
  "cells": [
    {
      "cell_type": "markdown",
      "metadata": {
        "id": "PNy8ouNLvk8I"
      },
      "source": [
        "# SNLP Project\n",
        "Name 1:  <br/>\n",
        "Student id 1: <br/>\n",
        "Email 1:  <br/>\n",
        "\n",
        "\n",
        "Name 2:  <br/>\n",
        "Student id 2: <br/>\n",
        "Email 2:  <br/>\n",
        "\n",
        "**Instructions:** Read each question carefully. <br/>\n",
        "Make sure you appropriately comment your code wherever required. Your final submission should contain the completed Notebook and the respective Python files for any additional exercises necessary. There is no need to submit the data files should they exist. <br/>\n",
        "Upload the zipped folder on CMS. Please follow the naming convention of **Name1_studentID1_Name2_studentID2.zip**. Make sure to click on \"Turn-in\" (or the equivalent on CMS) after your upload your submission, otherwise the assignment will not be considered as submitted. Only one member of the group should make the submisssion.\n",
        "\n",
        "---"
      ]
    },
    {
      "cell_type": "markdown",
      "metadata": {
        "id": "sgkw061ZpFs7"
      },
      "source": [
        "# Question 1: The Theory\n",
        "\n",
        "## GloVe (4 points)\n",
        "1.  Let's start with the original paper [\\[Link\\]](https://nlp.stanford.edu/pubs/glove.pdf). Read the paper and answer these questions: </br>\n",
        "  a. What do you think of the jump from (Equation 3 + Equation 4) -> Equation 5 ? Provide a counter-example where the given result may not hold. Why does this not affect the algorithm?  (2 points) </br>\n",
        "\n",
        "  b. Why does GloVe use a smoothing function ? How does the smoothing function interact with the loss objective? (1 point) </br>\n",
        "\n",
        "  c. Look at the [Mittens](https://arxiv.org/pdf/1803.09901.pdf) Paper, which extends GloVe. What do they add to the GloVe loss function? What happens as a result?(1 point)\n",
        "\n",
        "\n",
        "## Word2Vec (5 points)\n",
        "\n",
        "\n",
        "\n",
        "2. The two word2vec papers can be skimmed through to answer the following questions. [[Paper](https://arxiv.org/pdf/1301.3781.pdf)], \\[[2nd Paper](https://proceedings.neurips.cc/paper/2013/file/9aa42b31882ec039965f3c4923ce901b-Paper.pdf)\\] (Optional)]. You can also use [this](https://docs.chainer.org/en/latest/examples/word2vec.html) post for reference. Additionally, for an intuition behind vector operations check this [blog post](https://p.migdal.pl/2017/01/06/king-man-woman-queen-why.html/). The word2vec paper has a neural focus, however, it is not crucial to understand how neural networks work at this time. Answer the following questions: </br>\n",
        "\n",
        "  a. Describe the two proposed methods/training objectives for obtaining word embeddings presented in the original paper. Focus only on the **training objective** and not the technical/optimization details. (2 points) </br>\n",
        "\n",
        "  b. In section 2.1 of the paper, the authors mention using a hierarchical softmax function where they represent the vocabulary as a Huffman binary tree. They go on to claim that only $\\log_2(Unigram\\_perplexity(V))$ evaluations are needed to arrive at a result, where $V$ is the size of the vocabulary. Why is this the case? (1 point) </br>\n",
        "\n",
        "  c. An extension of the skip-gram approach to obtaining word2vec embeddings. This extension is called skip-gram with negative sampling. It is described in the second paper. Explain what this method consists in and why it is more efficient. (1 point) </br>\n",
        "\n",
        "  d. Attempts at explaining what word2vec is doing have tried to link the resulting $W$ embedding matrix to the good ol' point-wise mutual information (PMI) approaches. Explain why this might make sense as an intuition. Feel free to answer with what has been covered in the SNLP course or take a look at this [paper](https://proceedings.neurips.cc/paper/2014/file/feab05aa91085b7a8012516bc3533958-Paper.pdf) which claims that $WC$ is the PMI shifted by a constant, where $W$ is our embedding matrix and $C$ is our context matrix. (1 point)\n",
        "\n",
        "**Notes**:\n",
        "* (Question 2) In a neural language model, we predict the probability of each token in the vocabulary to be the next token given the context. In order to get this distribution we use the $softmax(x) = \\frac{\\exp(x)}{\\sum_{i=0}^V \\exp(w_i)}$ function. It is not completely necessary to understand this fully. Hint: If you wish to learn more about this, feel free to take the Neural Networks course.\n"
      ]
    },
    {
      "cell_type": "markdown",
      "metadata": {
        "id": "aCwxrFzE50HK"
      },
      "source": [
        "# Question 2: Training GloVe Embeddings(11 points)\n",
        "\n",
        "Let's train our own GloVe embeddings!\n",
        "1. Start by splitting the corpus into train:test using a 50:50 ratio. Remove all punctuations and lowercase the corpus. (1 point)\n",
        "\n",
        "2. Write a function that computes the co-occurrence matrix for a fixed vocabulary and given window length. (2 points)\n",
        "\n",
        "3. Train your own GloVe embeddings from scratch using the [glove](https://github.com/stanfordnlp/glove) repo. Use the default parameters in ```demo.sh``` for this question. Check for empty and duplicate embeddings!\n",
        " (2 points)\n",
        "\n",
        "4. Use the resulting embeddings to train a sentiment classifier using your train data. Represent each sentence as the **sum** of its word vectors and train a [Random Forest](https://scikit-learn.org/stable/modules/generated/sklearn.ensemble.RandomForestClassifier.html). Replace all OOV entries with a zero vector. Use 5-fold cross validation on your training data to fix the depth of your Random forest. Keep all other hyperparameters unchanged. Print the F1 score (macro) for your classifier. (2 points)\n",
        "\n",
        "5. Plot the classifier performance across a basket of  vector embedding sizes {50,100,200} + {300 if you can} and context lengths [5,10,15] for developing the embeddings. What do you think about the trends? (1 point)\n",
        "\n",
        "\n",
        "6. Replace your embeddings with the global GloVe embeddings [\\[Link\\]](https://glove-embeddings.github.io/) (Mind the vocabularies). Re-run the classifier training and testing. How does the results  compare to your in-house embeddings? Plot the classifier performance against vector length [50,100,200] for the in-house and global embeddings.  (2 points)\n",
        "\n",
        "7. Let's see if the trends you observed hold across domains. Compare the IMDB embeddings you built against the global embeddings (50 sized vectors) when building a similar classifier for the [Financial Phrasebank corpus](https://huggingface.co/datasets/financial_phrasebank). What do you observe? (1 point)\n",
        "\n",
        "\n",
        "Note: The default setting for Glove is a context length of 10 and an embedding size of 50. If you are experimenting with one of the variables, you can default the other one.\n",
        "\n"
      ]
    },
    {
      "cell_type": "markdown",
      "metadata": {
        "id": "zyfOQO0d6C0V"
      },
      "source": [
        "## Downloading data, Glove repo"
      ]
    },
    {
      "cell_type": "code",
      "execution_count": 1,
      "metadata": {
        "colab": {
          "base_uri": "https://localhost:8080/"
        },
        "id": "3XsvcFCi5zpK",
        "outputId": "06dac74a-821f-4303-827c-c3aa59e62376"
      },
      "outputs": [
        {
          "name": "stdout",
          "output_type": "stream",
          "text": [
            "Cloning into 'glove'...\n",
            "warning: redirecting to https://github.com/stanfordnlp/glove/\n",
            "remote: Enumerating objects: 644, done.\u001b[K\n",
            "remote: Counting objects: 100% (52/52), done.\u001b[K\n",
            "remote: Compressing objects: 100% (28/28), done.\u001b[K\n",
            "remote: Total 644 (delta 27), reused 35 (delta 24), pack-reused 592\u001b[K\n",
            "Receiving objects: 100% (644/644), 244.75 KiB | 11.65 MiB/s, done.\n",
            "Resolving deltas: 100% (365/365), done.\n",
            "mkdir -p build\n",
            "gcc -c src/vocab_count.c -o build/vocab_count.o -lm -pthread -O3 -march=native -funroll-loops -Wall -Wextra -Wpedantic\n",
            "gcc -c src/cooccur.c -o build/cooccur.o -lm -pthread -O3 -march=native -funroll-loops -Wall -Wextra -Wpedantic\n",
            "\u001b[01m\u001b[Ksrc/cooccur.c:\u001b[m\u001b[K In function ‘\u001b[01m\u001b[Kmerge_files\u001b[m\u001b[K’:\n",
            "\u001b[01m\u001b[Ksrc/cooccur.c:180:9:\u001b[m\u001b[K \u001b[01;35m\u001b[Kwarning: \u001b[m\u001b[Kignoring return value of ‘\u001b[01m\u001b[Kfread\u001b[m\u001b[K’, declared with attribute warn_unused_result [\u001b[01;35m\u001b[K-Wunused-result\u001b[m\u001b[K]\n",
            "  180 |         \u001b[01;35m\u001b[Kfread(&new, sizeof(CREC), 1, fid[i])\u001b[m\u001b[K;\n",
            "      |         \u001b[01;35m\u001b[K^~~~~~~~~~~~~~~~~~~~~~~~~~~~~~~~~~~~\u001b[m\u001b[K\n",
            "\u001b[01m\u001b[Ksrc/cooccur.c:190:5:\u001b[m\u001b[K \u001b[01;35m\u001b[Kwarning: \u001b[m\u001b[Kignoring return value of ‘\u001b[01m\u001b[Kfread\u001b[m\u001b[K’, declared with attribute warn_unused_result [\u001b[01;35m\u001b[K-Wunused-result\u001b[m\u001b[K]\n",
            "  190 |     \u001b[01;35m\u001b[Kfread(&new, sizeof(CREC), 1, fid[i])\u001b[m\u001b[K;\n",
            "      |     \u001b[01;35m\u001b[K^~~~~~~~~~~~~~~~~~~~~~~~~~~~~~~~~~~~\u001b[m\u001b[K\n",
            "\u001b[01m\u001b[Ksrc/cooccur.c:203:9:\u001b[m\u001b[K \u001b[01;35m\u001b[Kwarning: \u001b[m\u001b[Kignoring return value of ‘\u001b[01m\u001b[Kfread\u001b[m\u001b[K’, declared with attribute warn_unused_result [\u001b[01;35m\u001b[K-Wunused-result\u001b[m\u001b[K]\n",
            "  203 |         \u001b[01;35m\u001b[Kfread(&new, sizeof(CREC), 1, fid[i])\u001b[m\u001b[K;\n",
            "      |         \u001b[01;35m\u001b[K^~~~~~~~~~~~~~~~~~~~~~~~~~~~~~~~~~~~\u001b[m\u001b[K\n",
            "gcc -c src/shuffle.c -o build/shuffle.o -lm -pthread -O3 -march=native -funroll-loops -Wall -Wextra -Wpedantic\n",
            "\u001b[01m\u001b[Ksrc/shuffle.c:\u001b[m\u001b[K In function ‘\u001b[01m\u001b[Kshuffle_merge\u001b[m\u001b[K’:\n",
            "\u001b[01m\u001b[Ksrc/shuffle.c:96:17:\u001b[m\u001b[K \u001b[01;35m\u001b[Kwarning: \u001b[m\u001b[Kignoring return value of ‘\u001b[01m\u001b[Kfread\u001b[m\u001b[K’, declared with attribute warn_unused_result [\u001b[01;35m\u001b[K-Wunused-result\u001b[m\u001b[K]\n",
            "   96 |                 \u001b[01;35m\u001b[Kfread(&array[i], sizeof(CREC), 1, fid[j])\u001b[m\u001b[K;\n",
            "      |                 \u001b[01;35m\u001b[K^~~~~~~~~~~~~~~~~~~~~~~~~~~~~~~~~~~~~~~~~\u001b[m\u001b[K\n",
            "\u001b[01m\u001b[Ksrc/shuffle.c:\u001b[m\u001b[K In function ‘\u001b[01m\u001b[Kshuffle_by_chunks\u001b[m\u001b[K’:\n",
            "\u001b[01m\u001b[Ksrc/shuffle.c:161:9:\u001b[m\u001b[K \u001b[01;35m\u001b[Kwarning: \u001b[m\u001b[Kignoring return value of ‘\u001b[01m\u001b[Kfread\u001b[m\u001b[K’, declared with attribute warn_unused_result [\u001b[01;35m\u001b[K-Wunused-result\u001b[m\u001b[K]\n",
            "  161 |         \u001b[01;35m\u001b[Kfread(&array[i], sizeof(CREC), 1, fin)\u001b[m\u001b[K;\n",
            "      |         \u001b[01;35m\u001b[K^~~~~~~~~~~~~~~~~~~~~~~~~~~~~~~~~~~~~~\u001b[m\u001b[K\n",
            "gcc -c src/glove.c -o build/glove.o -lm -pthread -O3 -march=native -funroll-loops -Wall -Wextra -Wpedantic\n",
            "\u001b[01m\u001b[Ksrc/glove.c:\u001b[m\u001b[K In function ‘\u001b[01m\u001b[Kload_init_file\u001b[m\u001b[K’:\n",
            "\u001b[01m\u001b[Ksrc/glove.c:86:9:\u001b[m\u001b[K \u001b[01;35m\u001b[Kwarning: \u001b[m\u001b[Kignoring return value of ‘\u001b[01m\u001b[Kfread\u001b[m\u001b[K’, declared with attribute warn_unused_result [\u001b[01;35m\u001b[K-Wunused-result\u001b[m\u001b[K]\n",
            "   86 |         \u001b[01;35m\u001b[Kfread(&array[a], sizeof(real), 1, fin)\u001b[m\u001b[K;\n",
            "      |         \u001b[01;35m\u001b[K^~~~~~~~~~~~~~~~~~~~~~~~~~~~~~~~~~~~~~\u001b[m\u001b[K\n",
            "\u001b[01m\u001b[Ksrc/glove.c:\u001b[m\u001b[K In function ‘\u001b[01m\u001b[Kglove_thread\u001b[m\u001b[K’:\n",
            "\u001b[01m\u001b[Ksrc/glove.c:182:9:\u001b[m\u001b[K \u001b[01;35m\u001b[Kwarning: \u001b[m\u001b[Kignoring return value of ‘\u001b[01m\u001b[Kfread\u001b[m\u001b[K’, declared with attribute warn_unused_result [\u001b[01;35m\u001b[K-Wunused-result\u001b[m\u001b[K]\n",
            "  182 |         \u001b[01;35m\u001b[Kfread(&cr, sizeof(CREC), 1, fin)\u001b[m\u001b[K;\n",
            "      |         \u001b[01;35m\u001b[K^~~~~~~~~~~~~~~~~~~~~~~~~~~~~~~~\u001b[m\u001b[K\n",
            "gcc -c src/common.c -o build/common.o -lm -pthread -O3 -march=native -funroll-loops -Wall -Wextra -Wpedantic\n",
            "gcc build/vocab_count.o build/common.o -o build/vocab_count -lm -pthread -O3 -march=native -funroll-loops -Wall -Wextra -Wpedantic\n",
            "gcc build/cooccur.o build/common.o -o build/cooccur -lm -pthread -O3 -march=native -funroll-loops -Wall -Wextra -Wpedantic\n",
            "gcc build/shuffle.o build/common.o -o build/shuffle -lm -pthread -O3 -march=native -funroll-loops -Wall -Wextra -Wpedantic\n",
            "gcc build/glove.o build/common.o -o build/glove -lm -pthread -O3 -march=native -funroll-loops -Wall -Wextra -Wpedantic\n",
            "--2023-07-09 18:02:30--  https://github.com/Ankit152/IMDB-sentiment-analysis/raw/master/IMDB-Dataset.csv\n",
            "Resolving github.com (github.com)... 20.205.243.166\n",
            "Connecting to github.com (github.com)|20.205.243.166|:443... connected.\n",
            "HTTP request sent, awaiting response... 302 Found\n",
            "Location: https://raw.githubusercontent.com/Ankit152/IMDB-sentiment-analysis/master/IMDB-Dataset.csv [following]\n",
            "--2023-07-09 18:02:30--  https://raw.githubusercontent.com/Ankit152/IMDB-sentiment-analysis/master/IMDB-Dataset.csv\n",
            "Resolving raw.githubusercontent.com (raw.githubusercontent.com)... 185.199.108.133, 185.199.109.133, 185.199.110.133, ...\n",
            "Connecting to raw.githubusercontent.com (raw.githubusercontent.com)|185.199.108.133|:443... connected.\n",
            "HTTP request sent, awaiting response... 200 OK\n",
            "Length: 66212309 (63M) [text/plain]\n",
            "Saving to: ‘IMDB-Dataset.csv’\n",
            "\n",
            "IMDB-Dataset.csv    100%[===================>]  63.14M   357MB/s    in 0.2s    \n",
            "\n",
            "2023-07-09 18:02:31 (357 MB/s) - ‘IMDB-Dataset.csv’ saved [66212309/66212309]\n",
            "\n"
          ]
        }
      ],
      "source": [
        "!git clone http://github.com/stanfordnlp/glove\n",
        "!cd glove && make;\n",
        "!wget https://github.com/Ankit152/IMDB-sentiment-analysis/raw/master/IMDB-Dataset.csv"
      ]
    },
    {
      "cell_type": "markdown",
      "metadata": {
        "id": "Yto4vOGebpvM"
      },
      "source": [
        "## Into the Void . . ."
      ]
    },
    {
      "cell_type": "code",
      "execution_count": null,
      "metadata": {
        "id": "9AdQnfsFbryz"
      },
      "outputs": [],
      "source": []
    },
    {
      "cell_type": "code",
      "execution_count": 2,
      "metadata": {
        "id": "IeU7VwldBHAf"
      },
      "outputs": [],
      "source": [
        "import pandas as pd\n",
        "import numpy as np\n",
        "import string\n",
        "from sklearn.model_selection import train_test_split\n",
        "\n",
        "# Read the IMDb dataset\n",
        "data = pd.read_csv('IMDB-Dataset.csv')\n",
        "\n",
        "# Split into train and test sets\n",
        "train_data, test_data = train_test_split(data, test_size=0.5, random_state=42)\n",
        "\n",
        "# Remove punctuation and convert to lowercase\n",
        "translator = str.maketrans('', '', string.punctuation)\n",
        "\n",
        "train_corpus = train_data['review'].str.lower().apply(lambda x: x.translate(translator))\n",
        "test_corpus = test_data['review'].str.lower().apply(lambda x: x.translate(translator))\n",
        "\n",
        "# Save preprocessed train and test data to files\n",
        "train_corpus.to_csv('train_corpus.txt', index=False, header=False)\n",
        "test_corpus.to_csv('test_corpus.txt', index=False, header=False)\n"
      ]
    },
    {
      "cell_type": "code",
      "execution_count": null,
      "metadata": {
        "id": "1gEtt8h4AJEj"
      },
      "outputs": [],
      "source": []
    },
    {
      "cell_type": "code",
      "execution_count": 3,
      "metadata": {
        "colab": {
          "base_uri": "https://localhost:8080/"
        },
        "id": "RokQGn1e_uaS",
        "outputId": "832d8161-dc16-4352-fa93-85ba7f3db590"
      },
      "outputs": [
        {
          "data": {
            "text/plain": [
              "25858    congo is based on the bestselling novel by mic...\n",
              "10784    wow here it finally is the action movie withou...\n",
              "24807    identity     i am part of my surroundings and...\n",
              "49534    sir john gielgud must have become senile to st...\n",
              "3345     below average movie with poor music considerin...\n",
              "                               ...                        \n",
              "11284    shadow magic recaptures the joy and amazement ...\n",
              "44732    i found this movie to be quite enjoyable and f...\n",
              "38158    avoid this one it is a terrible movie so what ...\n",
              "860      this production was quite a surprise for me i ...\n",
              "15795    this is a decent movie although little bit sho...\n",
              "Name: review, Length: 25000, dtype: object"
            ]
          },
          "execution_count": 3,
          "metadata": {},
          "output_type": "execute_result"
        }
      ],
      "source": [
        "train_corpus"
      ]
    },
    {
      "cell_type": "code",
      "execution_count": 4,
      "metadata": {
        "id": "BtZKISPrPg9S"
      },
      "outputs": [],
      "source": [
        "from collections import defaultdict\n",
        "import numpy as np\n",
        "from collections import defaultdict\n",
        "def compute_co_occurrence_matrix(corpus, vocab, window_size):\n",
        "    co_occurrence_matrix = defaultdict(lambda: defaultdict(int))\n",
        "    for sentence in corpus:\n",
        "        words = sentence.split()\n",
        "\n",
        "        for i, target_word in enumerate(words):\n",
        "            for j in range(max(i - window_size, 0), min(i + window_size + 1, len(words))):\n",
        "                context_word = words[j]\n",
        "\n",
        "                if target_word in vocab and context_word in vocab:\n",
        "                    co_occurrence_matrix[target_word][context_word] += 1\n",
        "\n",
        "    return co_occurrence_matrix\n",
        "\n"
      ]
    },
    {
      "cell_type": "code",
      "execution_count": 4,
      "metadata": {
        "id": "k9wjsJvyPt9f"
      },
      "outputs": [],
      "source": [
        "\n"
      ]
    },
    {
      "cell_type": "code",
      "execution_count": 4,
      "metadata": {
        "id": "H_EmvjkuRUyU"
      },
      "outputs": [],
      "source": []
    },
    {
      "cell_type": "code",
      "execution_count": 4,
      "metadata": {
        "id": "HjTTInmWP4IF"
      },
      "outputs": [],
      "source": []
    },
    {
      "cell_type": "code",
      "execution_count": 4,
      "metadata": {
        "id": "XOLIgCkuRPaS"
      },
      "outputs": [],
      "source": [
        "\n"
      ]
    },
    {
      "cell_type": "markdown",
      "metadata": {
        "id": "OT4XS859w4V_"
      },
      "source": [
        "### GloVE training"
      ]
    },
    {
      "cell_type": "code",
      "execution_count": 5,
      "metadata": {
        "colab": {
          "base_uri": "https://localhost:8080/"
        },
        "id": "eHZ003SKh3Ar",
        "outputId": "c4dc1572-9d1c-47a9-af4e-38a759ab0c1d"
      },
      "outputs": [
        {
          "name": "stdout",
          "output_type": "stream",
          "text": [
            "mkdir -p build\n",
            "--2023-07-09 18:03:18--  http://mattmahoney.net/dc/text8.zip\n",
            "Resolving mattmahoney.net (mattmahoney.net)... 34.198.1.81\n",
            "Connecting to mattmahoney.net (mattmahoney.net)|34.198.1.81|:80... connected.\n",
            "HTTP request sent, awaiting response... 200 OK\n",
            "Length: 31344016 (30M) [application/zip]\n",
            "Saving to: ‘text8.zip’\n",
            "\n",
            "text8.zip           100%[===================>]  29.89M  7.61MB/s    in 3.9s    \n",
            "\n",
            "2023-07-09 18:03:23 (7.61 MB/s) - ‘text8.zip’ saved [31344016/31344016]\n",
            "\n",
            "Archive:  text8.zip\n",
            "  inflating: text8                   \n",
            "\n",
            "$ build/vocab_count -min-count 5 -verbose 2 < text8 > vocab.txt\n",
            "BUILDING VOCABULARY\n",
            "Processed 0 tokens.\u001b[11G100000 tokens.\u001b[11G200000 tokens.\u001b[11G300000 tokens.\u001b[11G400000 tokens.\u001b[11G500000 tokens.\u001b[11G600000 tokens.\u001b[11G700000 tokens.\u001b[11G800000 tokens.\u001b[11G900000 tokens.\u001b[11G1000000 tokens.\u001b[11G1100000 tokens.\u001b[11G1200000 tokens.\u001b[11G1300000 tokens.\u001b[11G1400000 tokens.\u001b[11G1500000 tokens.\u001b[11G1600000 tokens.\u001b[11G1700000 tokens.\u001b[11G1800000 tokens.\u001b[11G1900000 tokens.\u001b[11G2000000 tokens.\u001b[11G2100000 tokens.\u001b[11G2200000 tokens.\u001b[11G2300000 tokens.\u001b[11G2400000 tokens.\u001b[11G2500000 tokens.\u001b[11G2600000 tokens.\u001b[11G2700000 tokens.\u001b[11G2800000 tokens.\u001b[11G2900000 tokens.\u001b[11G3000000 tokens.\u001b[11G3100000 tokens.\u001b[11G3200000 tokens.\u001b[11G3300000 tokens.\u001b[11G3400000 tokens.\u001b[11G3500000 tokens.\u001b[11G3600000 tokens.\u001b[11G3700000 tokens.\u001b[11G3800000 tokens.\u001b[11G3900000 tokens.\u001b[11G4000000 tokens.\u001b[11G4100000 tokens.\u001b[11G4200000 tokens.\u001b[11G4300000 tokens.\u001b[11G4400000 tokens.\u001b[11G4500000 tokens.\u001b[11G4600000 tokens.\u001b[11G4700000 tokens.\u001b[11G4800000 tokens.\u001b[11G4900000 tokens.\u001b[11G5000000 tokens.\u001b[11G5100000 tokens.\u001b[11G5200000 tokens.\u001b[11G5300000 tokens.\u001b[11G5400000 tokens.\u001b[11G5500000 tokens.\u001b[11G5600000 tokens.\u001b[11G5700000 tokens.\u001b[11G5800000 tokens.\u001b[11G5900000 tokens.\u001b[11G6000000 tokens.\u001b[11G6100000 tokens.\u001b[11G6200000 tokens.\u001b[11G6300000 tokens.\u001b[11G6400000 tokens.\u001b[11G6500000 tokens.\u001b[11G6600000 tokens.\u001b[11G6700000 tokens.\u001b[11G6800000 tokens.\u001b[11G6900000 tokens.\u001b[11G7000000 tokens.\u001b[11G7100000 tokens.\u001b[11G7200000 tokens.\u001b[11G7300000 tokens.\u001b[11G7400000 tokens.\u001b[11G7500000 tokens.\u001b[11G7600000 tokens.\u001b[11G7700000 tokens.\u001b[11G7800000 tokens.\u001b[11G7900000 tokens.\u001b[11G8000000 tokens.\u001b[11G8100000 tokens.\u001b[11G8200000 tokens.\u001b[11G8300000 tokens.\u001b[11G8400000 tokens.\u001b[11G8500000 tokens.\u001b[11G8600000 tokens.\u001b[11G8700000 tokens.\u001b[11G8800000 tokens.\u001b[11G8900000 tokens.\u001b[11G9000000 tokens.\u001b[11G9100000 tokens.\u001b[11G9200000 tokens.\u001b[11G9300000 tokens.\u001b[11G9400000 tokens.\u001b[11G9500000 tokens.\u001b[11G9600000 tokens.\u001b[11G9700000 tokens.\u001b[11G9800000 tokens.\u001b[11G9900000 tokens.\u001b[11G10000000 tokens.\u001b[11G10100000 tokens.\u001b[11G10200000 tokens.\u001b[11G10300000 tokens.\u001b[11G10400000 tokens.\u001b[11G10500000 tokens.\u001b[11G10600000 tokens.\u001b[11G10700000 tokens.\u001b[11G10800000 tokens.\u001b[11G10900000 tokens.\u001b[11G11000000 tokens.\u001b[11G11100000 tokens.\u001b[11G11200000 tokens.\u001b[11G11300000 tokens.\u001b[11G11400000 tokens.\u001b[11G11500000 tokens.\u001b[11G11600000 tokens.\u001b[11G11700000 tokens.\u001b[11G11800000 tokens.\u001b[11G11900000 tokens.\u001b[11G12000000 tokens.\u001b[11G12100000 tokens.\u001b[11G12200000 tokens.\u001b[11G12300000 tokens.\u001b[11G12400000 tokens.\u001b[11G12500000 tokens.\u001b[11G12600000 tokens.\u001b[11G12700000 tokens.\u001b[11G12800000 tokens.\u001b[11G12900000 tokens.\u001b[11G13000000 tokens.\u001b[11G13100000 tokens.\u001b[11G13200000 tokens.\u001b[11G13300000 tokens.\u001b[11G13400000 tokens.\u001b[11G13500000 tokens.\u001b[11G13600000 tokens.\u001b[11G13700000 tokens.\u001b[11G13800000 tokens.\u001b[11G13900000 tokens.\u001b[11G14000000 tokens.\u001b[11G14100000 tokens.\u001b[11G14200000 tokens.\u001b[11G14300000 tokens.\u001b[11G14400000 tokens.\u001b[11G14500000 tokens.\u001b[11G14600000 tokens.\u001b[11G14700000 tokens.\u001b[11G14800000 tokens.\u001b[11G14900000 tokens.\u001b[11G15000000 tokens.\u001b[11G15100000 tokens.\u001b[11G15200000 tokens.\u001b[11G15300000 tokens.\u001b[11G15400000 tokens.\u001b[11G15500000 tokens.\u001b[11G15600000 tokens.\u001b[11G15700000 tokens.\u001b[11G15800000 tokens.\u001b[11G15900000 tokens.\u001b[11G16000000 tokens.\u001b[11G16100000 tokens.\u001b[11G16200000 tokens.\u001b[11G16300000 tokens.\u001b[11G16400000 tokens.\u001b[11G16500000 tokens.\u001b[11G16600000 tokens.\u001b[11G16700000 tokens.\u001b[11G16800000 tokens.\u001b[11G16900000 tokens.\u001b[11G17000000 tokens.\u001b[0GProcessed 17005207 tokens.\n",
            "Counted 253854 unique words.\n",
            "Truncating vocabulary at min count 5.\n",
            "Using vocabulary of size 71290.\n",
            "\n",
            "$ build/cooccur -memory 4.0 -vocab-file vocab.txt -verbose 2 -window-size 15 < text8 > cooccurrence.bin\n",
            "COUNTING COOCCURRENCES\n",
            "window size: 15\n",
            "context: symmetric\n",
            "max product: 13752509\n",
            "overflow length: 38028356\n",
            "Reading vocab from file \"vocab.txt\"...loaded 71290 words.\n",
            "Building lookup table...table contains 94990279 elements.\n",
            "Processing token: 0\u001b[19G100000\u001b[19G200000\u001b[19G300000\u001b[19G400000\u001b[19G500000\u001b[19G600000\u001b[19G700000\u001b[19G800000\u001b[19G900000\u001b[19G1000000\u001b[19G1100000\u001b[19G1200000\u001b[19G1300000\u001b[19G1400000\u001b[19G1500000\u001b[19G1600000\u001b[19G1700000\u001b[19G1800000\u001b[19G1900000\u001b[19G2000000\u001b[19G2100000\u001b[19G2200000\u001b[19G2300000\u001b[19G2400000\u001b[19G2500000\u001b[19G2600000\u001b[19G2700000\u001b[19G2800000\u001b[19G2900000\u001b[19G3000000\u001b[19G3100000\u001b[19G3200000\u001b[19G3300000\u001b[19G3400000\u001b[19G3500000\u001b[19G3600000\u001b[19G3700000\u001b[19G3800000\u001b[19G3900000\u001b[19G4000000\u001b[19G4100000\u001b[19G4200000\u001b[19G4300000\u001b[19G4400000\u001b[19G4500000\u001b[19G4600000\u001b[19G4700000\u001b[19G4800000\u001b[19G4900000\u001b[19G5000000\u001b[19G5100000\u001b[19G5200000\u001b[19G5300000\u001b[19G5400000\u001b[19G5500000\u001b[19G5600000\u001b[19G5700000\u001b[19G5800000\u001b[19G5900000\u001b[19G6000000\u001b[19G6100000\u001b[19G6200000\u001b[19G6300000\u001b[19G6400000\u001b[19G6500000\u001b[19G6600000\u001b[19G6700000\u001b[19G6800000\u001b[19G6900000\u001b[19G7000000\u001b[19G7100000\u001b[19G7200000\u001b[19G7300000\u001b[19G7400000\u001b[19G7500000\u001b[19G7600000\u001b[19G7700000\u001b[19G7800000\u001b[19G7900000\u001b[19G8000000\u001b[19G8100000\u001b[19G8200000\u001b[19G8300000\u001b[19G8400000\u001b[19G8500000\u001b[19G8600000\u001b[19G8700000\u001b[19G8800000\u001b[19G8900000\u001b[19G9000000\u001b[19G9100000\u001b[19G9200000\u001b[19G9300000\u001b[19G9400000\u001b[19G9500000\u001b[19G9600000\u001b[19G9700000\u001b[19G9800000\u001b[19G9900000\u001b[19G10000000\u001b[19G10100000\u001b[19G10200000\u001b[19G10300000\u001b[19G10400000\u001b[19G10500000\u001b[19G10600000\u001b[19G10700000\u001b[19G10800000\u001b[19G10900000\u001b[19G11000000\u001b[19G11100000\u001b[19G11200000\u001b[19G11300000\u001b[19G11400000\u001b[19G11500000\u001b[19G11600000\u001b[19G11700000\u001b[19G11800000\u001b[19G11900000\u001b[19G12000000\u001b[19G12100000\u001b[19G12200000\u001b[19G12300000\u001b[19G12400000\u001b[19G12500000\u001b[19G12600000\u001b[19G12700000\u001b[19G12800000\u001b[19G12900000\u001b[19G13000000\u001b[19G13100000\u001b[19G13200000\u001b[19G13300000\u001b[19G13400000\u001b[19G13500000\u001b[19G13600000\u001b[19G13700000\u001b[19G13800000\u001b[19G13900000\u001b[19G14000000\u001b[19G14100000\u001b[19G14200000\u001b[19G14300000\u001b[19G14400000\u001b[19G14500000\u001b[19G14600000\u001b[19G14700000\u001b[19G14800000\u001b[19G14900000\u001b[19G15000000\u001b[19G15100000\u001b[19G15200000\u001b[19G15300000\u001b[19G15400000\u001b[19G15500000\u001b[19G15600000\u001b[19G15700000\u001b[19G15800000\u001b[19G15900000\u001b[19G16000000\u001b[19G16100000\u001b[19G16200000\u001b[19G16300000\u001b[19G16400000\u001b[19G16500000\u001b[19G16600000\u001b[19G16700000\u001b[19G16800000\u001b[19G16900000\u001b[19G17000000\u001b[0GProcessed 17005207 tokens.\n",
            "Writing cooccurrences to disk.........2 files in total.\n",
            "Merging cooccurrence files: processed 0 lines.\u001b[39G100000 lines.\u001b[39G200000 lines.\u001b[39G300000 lines.\u001b[39G400000 lines.\u001b[39G500000 lines.\u001b[39G600000 lines.\u001b[39G700000 lines.\u001b[39G800000 lines.\u001b[39G900000 lines.\u001b[39G1000000 lines.\u001b[39G1100000 lines.\u001b[39G1200000 lines.\u001b[39G1300000 lines.\u001b[39G1400000 lines.\u001b[39G1500000 lines.\u001b[39G1600000 lines.\u001b[39G1700000 lines.\u001b[39G1800000 lines.\u001b[39G1900000 lines.\u001b[39G2000000 lines.\u001b[39G2100000 lines.\u001b[39G2200000 lines.\u001b[39G2300000 lines.\u001b[39G2400000 lines.\u001b[39G2500000 lines.\u001b[39G2600000 lines.\u001b[39G2700000 lines.\u001b[39G2800000 lines.\u001b[39G2900000 lines.\u001b[39G3000000 lines.\u001b[39G3100000 lines.\u001b[39G3200000 lines.\u001b[39G3300000 lines.\u001b[39G3400000 lines.\u001b[39G3500000 lines.\u001b[39G3600000 lines.\u001b[39G3700000 lines.\u001b[39G3800000 lines.\u001b[39G3900000 lines.\u001b[39G4000000 lines.\u001b[39G4100000 lines.\u001b[39G4200000 lines.\u001b[39G4300000 lines.\u001b[39G4400000 lines.\u001b[39G4500000 lines.\u001b[39G4600000 lines.\u001b[39G4700000 lines.\u001b[39G4800000 lines.\u001b[39G4900000 lines.\u001b[39G5000000 lines.\u001b[39G5100000 lines.\u001b[39G5200000 lines.\u001b[39G5300000 lines.\u001b[39G5400000 lines.\u001b[39G5500000 lines.\u001b[39G5600000 lines.\u001b[39G5700000 lines.\u001b[39G5800000 lines.\u001b[39G5900000 lines.\u001b[39G6000000 lines.\u001b[39G6100000 lines.\u001b[39G6200000 lines.\u001b[39G6300000 lines.\u001b[39G6400000 lines.\u001b[39G6500000 lines.\u001b[39G6600000 lines.\u001b[39G6700000 lines.\u001b[39G6800000 lines.\u001b[39G6900000 lines.\u001b[39G7000000 lines.\u001b[39G7100000 lines.\u001b[39G7200000 lines.\u001b[39G7300000 lines.\u001b[39G7400000 lines.\u001b[39G7500000 lines.\u001b[39G7600000 lines.\u001b[39G7700000 lines.\u001b[39G7800000 lines.\u001b[39G7900000 lines.\u001b[39G8000000 lines.\u001b[39G8100000 lines.\u001b[39G8200000 lines.\u001b[39G8300000 lines.\u001b[39G8400000 lines.\u001b[39G8500000 lines.\u001b[39G8600000 lines.\u001b[39G8700000 lines.\u001b[39G8800000 lines.\u001b[39G8900000 lines.\u001b[39G9000000 lines.\u001b[39G9100000 lines.\u001b[39G9200000 lines.\u001b[39G9300000 lines.\u001b[39G9400000 lines.\u001b[39G9500000 lines.\u001b[39G9600000 lines.\u001b[39G9700000 lines.\u001b[39G9800000 lines.\u001b[39G9900000 lines.\u001b[39G10000000 lines.\u001b[39G10100000 lines.\u001b[39G10200000 lines.\u001b[39G10300000 lines.\u001b[39G10400000 lines.\u001b[39G10500000 lines.\u001b[39G10600000 lines.\u001b[39G10700000 lines.\u001b[39G10800000 lines.\u001b[39G10900000 lines.\u001b[39G11000000 lines.\u001b[39G11100000 lines.\u001b[39G11200000 lines.\u001b[39G11300000 lines.\u001b[39G11400000 lines.\u001b[39G11500000 lines.\u001b[39G11600000 lines.\u001b[39G11700000 lines.\u001b[39G11800000 lines.\u001b[39G11900000 lines.\u001b[39G12000000 lines.\u001b[39G12100000 lines.\u001b[39G12200000 lines.\u001b[39G12300000 lines.\u001b[39G12400000 lines.\u001b[39G12500000 lines.\u001b[39G12600000 lines.\u001b[39G12700000 lines.\u001b[39G12800000 lines.\u001b[39G12900000 lines.\u001b[39G13000000 lines.\u001b[39G13100000 lines.\u001b[39G13200000 lines.\u001b[39G13300000 lines.\u001b[39G13400000 lines.\u001b[39G13500000 lines.\u001b[39G13600000 lines.\u001b[39G13700000 lines.\u001b[39G13800000 lines.\u001b[39G13900000 lines.\u001b[39G14000000 lines.\u001b[39G14100000 lines.\u001b[39G14200000 lines.\u001b[39G14300000 lines.\u001b[39G14400000 lines.\u001b[39G14500000 lines.\u001b[39G14600000 lines.\u001b[39G14700000 lines.\u001b[39G14800000 lines.\u001b[39G14900000 lines.\u001b[39G15000000 lines.\u001b[39G15100000 lines.\u001b[39G15200000 lines.\u001b[39G15300000 lines.\u001b[39G15400000 lines.\u001b[39G15500000 lines.\u001b[39G15600000 lines.\u001b[39G15700000 lines.\u001b[39G15800000 lines.\u001b[39G15900000 lines.\u001b[39G16000000 lines.\u001b[39G16100000 lines.\u001b[39G16200000 lines.\u001b[39G16300000 lines.\u001b[39G16400000 lines.\u001b[39G16500000 lines.\u001b[39G16600000 lines.\u001b[39G16700000 lines.\u001b[39G16800000 lines.\u001b[39G16900000 lines.\u001b[39G17000000 lines.\u001b[39G17100000 lines.\u001b[39G17200000 lines.\u001b[39G17300000 lines.\u001b[39G17400000 lines.\u001b[39G17500000 lines.\u001b[39G17600000 lines.\u001b[39G17700000 lines.\u001b[39G17800000 lines.\u001b[39G17900000 lines.\u001b[39G18000000 lines.\u001b[39G18100000 lines.\u001b[39G18200000 lines.\u001b[39G18300000 lines.\u001b[39G18400000 lines.\u001b[39G18500000 lines.\u001b[39G18600000 lines.\u001b[39G18700000 lines.\u001b[39G18800000 lines.\u001b[39G18900000 lines.\u001b[39G19000000 lines.\u001b[39G19100000 lines.\u001b[39G19200000 lines.\u001b[39G19300000 lines.\u001b[39G19400000 lines.\u001b[39G19500000 lines.\u001b[39G19600000 lines.\u001b[39G19700000 lines.\u001b[39G19800000 lines.\u001b[39G19900000 lines.\u001b[39G20000000 lines.\u001b[39G20100000 lines.\u001b[39G20200000 lines.\u001b[39G20300000 lines.\u001b[39G20400000 lines.\u001b[39G20500000 lines.\u001b[39G20600000 lines.\u001b[39G20700000 lines.\u001b[39G20800000 lines.\u001b[39G20900000 lines.\u001b[39G21000000 lines.\u001b[39G21100000 lines.\u001b[39G21200000 lines.\u001b[39G21300000 lines.\u001b[39G21400000 lines.\u001b[39G21500000 lines.\u001b[39G21600000 lines.\u001b[39G21700000 lines.\u001b[39G21800000 lines.\u001b[39G21900000 lines.\u001b[39G22000000 lines.\u001b[39G22100000 lines.\u001b[39G22200000 lines.\u001b[39G22300000 lines.\u001b[39G22400000 lines.\u001b[39G22500000 lines.\u001b[39G22600000 lines.\u001b[39G22700000 lines.\u001b[39G22800000 lines.\u001b[39G22900000 lines.\u001b[39G23000000 lines.\u001b[39G23100000 lines.\u001b[39G23200000 lines.\u001b[39G23300000 lines.\u001b[39G23400000 lines.\u001b[39G23500000 lines.\u001b[39G23600000 lines.\u001b[39G23700000 lines.\u001b[39G23800000 lines.\u001b[39G23900000 lines.\u001b[39G24000000 lines.\u001b[39G24100000 lines.\u001b[39G24200000 lines.\u001b[39G24300000 lines.\u001b[39G24400000 lines.\u001b[39G24500000 lines.\u001b[39G24600000 lines.\u001b[39G24700000 lines.\u001b[39G24800000 lines.\u001b[39G24900000 lines.\u001b[39G25000000 lines.\u001b[39G25100000 lines.\u001b[39G25200000 lines.\u001b[39G25300000 lines.\u001b[39G25400000 lines.\u001b[39G25500000 lines.\u001b[39G25600000 lines.\u001b[39G25700000 lines.\u001b[39G25800000 lines.\u001b[39G25900000 lines.\u001b[39G26000000 lines.\u001b[39G26100000 lines.\u001b[39G26200000 lines.\u001b[39G26300000 lines.\u001b[39G26400000 lines.\u001b[39G26500000 lines.\u001b[39G26600000 lines.\u001b[39G26700000 lines.\u001b[39G26800000 lines.\u001b[39G26900000 lines.\u001b[39G27000000 lines.\u001b[39G27100000 lines.\u001b[39G27200000 lines.\u001b[39G27300000 lines.\u001b[39G27400000 lines.\u001b[39G27500000 lines.\u001b[39G27600000 lines.\u001b[39G27700000 lines.\u001b[39G27800000 lines.\u001b[39G27900000 lines.\u001b[39G28000000 lines.\u001b[39G28100000 lines.\u001b[39G28200000 lines.\u001b[39G28300000 lines.\u001b[39G28400000 lines.\u001b[39G28500000 lines.\u001b[39G28600000 lines.\u001b[39G28700000 lines.\u001b[39G28800000 lines.\u001b[39G28900000 lines.\u001b[39G29000000 lines.\u001b[39G29100000 lines.\u001b[39G29200000 lines.\u001b[39G29300000 lines.\u001b[39G29400000 lines.\u001b[39G29500000 lines.\u001b[39G29600000 lines.\u001b[39G29700000 lines.\u001b[39G29800000 lines.\u001b[39G29900000 lines.\u001b[39G30000000 lines.\u001b[39G30100000 lines.\u001b[39G30200000 lines.\u001b[39G30300000 lines.\u001b[39G30400000 lines.\u001b[39G30500000 lines.\u001b[39G30600000 lines.\u001b[39G30700000 lines.\u001b[39G30800000 lines.\u001b[39G30900000 lines.\u001b[39G31000000 lines.\u001b[39G31100000 lines.\u001b[39G31200000 lines.\u001b[39G31300000 lines.\u001b[39G31400000 lines.\u001b[39G31500000 lines.\u001b[39G31600000 lines.\u001b[39G31700000 lines.\u001b[39G31800000 lines.\u001b[39G31900000 lines.\u001b[39G32000000 lines.\u001b[39G32100000 lines.\u001b[39G32200000 lines.\u001b[39G32300000 lines.\u001b[39G32400000 lines.\u001b[39G32500000 lines.\u001b[39G32600000 lines.\u001b[39G32700000 lines.\u001b[39G32800000 lines.\u001b[39G32900000 lines.\u001b[39G33000000 lines.\u001b[39G33100000 lines.\u001b[39G33200000 lines.\u001b[39G33300000 lines.\u001b[39G33400000 lines.\u001b[39G33500000 lines.\u001b[39G33600000 lines.\u001b[39G33700000 lines.\u001b[39G33800000 lines.\u001b[39G33900000 lines.\u001b[39G34000000 lines.\u001b[39G34100000 lines.\u001b[39G34200000 lines.\u001b[39G34300000 lines.\u001b[39G34400000 lines.\u001b[39G34500000 lines.\u001b[39G34600000 lines.\u001b[39G34700000 lines.\u001b[39G34800000 lines.\u001b[39G34900000 lines.\u001b[39G35000000 lines.\u001b[39G35100000 lines.\u001b[39G35200000 lines.\u001b[39G35300000 lines.\u001b[39G35400000 lines.\u001b[39G35500000 lines.\u001b[39G35600000 lines.\u001b[39G35700000 lines.\u001b[39G35800000 lines.\u001b[39G35900000 lines.\u001b[39G36000000 lines.\u001b[39G36100000 lines.\u001b[39G36200000 lines.\u001b[39G36300000 lines.\u001b[39G36400000 lines.\u001b[39G36500000 lines.\u001b[39G36600000 lines.\u001b[39G36700000 lines.\u001b[39G36800000 lines.\u001b[39G36900000 lines.\u001b[39G37000000 lines.\u001b[39G37100000 lines.\u001b[39G37200000 lines.\u001b[39G37300000 lines.\u001b[39G37400000 lines.\u001b[39G37500000 lines.\u001b[39G37600000 lines.\u001b[39G37700000 lines.\u001b[39G37800000 lines.\u001b[39G37900000 lines.\u001b[39G38000000 lines.\u001b[39G38100000 lines.\u001b[39G38200000 lines.\u001b[39G38300000 lines.\u001b[39G38400000 lines.\u001b[39G38500000 lines.\u001b[39G38600000 lines.\u001b[39G38700000 lines.\u001b[39G38800000 lines.\u001b[39G38900000 lines.\u001b[39G39000000 lines.\u001b[39G39100000 lines.\u001b[39G39200000 lines.\u001b[39G39300000 lines.\u001b[39G39400000 lines.\u001b[39G39500000 lines.\u001b[39G39600000 lines.\u001b[39G39700000 lines.\u001b[39G39800000 lines.\u001b[39G39900000 lines.\u001b[39G40000000 lines.\u001b[39G40100000 lines.\u001b[39G40200000 lines.\u001b[39G40300000 lines.\u001b[39G40400000 lines.\u001b[39G40500000 lines.\u001b[39G40600000 lines.\u001b[39G40700000 lines.\u001b[39G40800000 lines.\u001b[39G40900000 lines.\u001b[39G41000000 lines.\u001b[39G41100000 lines.\u001b[39G41200000 lines.\u001b[39G41300000 lines.\u001b[39G41400000 lines.\u001b[39G41500000 lines.\u001b[39G41600000 lines.\u001b[39G41700000 lines.\u001b[39G41800000 lines.\u001b[39G41900000 lines.\u001b[39G42000000 lines.\u001b[39G42100000 lines.\u001b[39G42200000 lines.\u001b[39G42300000 lines.\u001b[39G42400000 lines.\u001b[39G42500000 lines.\u001b[39G42600000 lines.\u001b[39G42700000 lines.\u001b[39G42800000 lines.\u001b[39G42900000 lines.\u001b[39G43000000 lines.\u001b[39G43100000 lines.\u001b[39G43200000 lines.\u001b[39G43300000 lines.\u001b[39G43400000 lines.\u001b[39G43500000 lines.\u001b[39G43600000 lines.\u001b[39G43700000 lines.\u001b[39G43800000 lines.\u001b[39G43900000 lines.\u001b[39G44000000 lines.\u001b[39G44100000 lines.\u001b[39G44200000 lines.\u001b[39G44300000 lines.\u001b[39G44400000 lines.\u001b[39G44500000 lines.\u001b[39G44600000 lines.\u001b[39G44700000 lines.\u001b[39G44800000 lines.\u001b[39G44900000 lines.\u001b[39G45000000 lines.\u001b[39G45100000 lines.\u001b[39G45200000 lines.\u001b[39G45300000 lines.\u001b[39G45400000 lines.\u001b[39G45500000 lines.\u001b[39G45600000 lines.\u001b[39G45700000 lines.\u001b[39G45800000 lines.\u001b[39G45900000 lines.\u001b[39G46000000 lines.\u001b[39G46100000 lines.\u001b[39G46200000 lines.\u001b[39G46300000 lines.\u001b[39G46400000 lines.\u001b[39G46500000 lines.\u001b[39G46600000 lines.\u001b[39G46700000 lines.\u001b[39G46800000 lines.\u001b[39G46900000 lines.\u001b[39G47000000 lines.\u001b[39G47100000 lines.\u001b[39G47200000 lines.\u001b[39G47300000 lines.\u001b[39G47400000 lines.\u001b[39G47500000 lines.\u001b[39G47600000 lines.\u001b[39G47700000 lines.\u001b[39G47800000 lines.\u001b[39G47900000 lines.\u001b[39G48000000 lines.\u001b[39G48100000 lines.\u001b[39G48200000 lines.\u001b[39G48300000 lines.\u001b[39G48400000 lines.\u001b[39G48500000 lines.\u001b[39G48600000 lines.\u001b[39G48700000 lines.\u001b[39G48800000 lines.\u001b[39G48900000 lines.\u001b[39G49000000 lines.\u001b[39G49100000 lines.\u001b[39G49200000 lines.\u001b[39G49300000 lines.\u001b[39G49400000 lines.\u001b[39G49500000 lines.\u001b[39G49600000 lines.\u001b[39G49700000 lines.\u001b[39G49800000 lines.\u001b[39G49900000 lines.\u001b[39G50000000 lines.\u001b[39G50100000 lines.\u001b[39G50200000 lines.\u001b[39G50300000 lines.\u001b[39G50400000 lines.\u001b[39G50500000 lines.\u001b[39G50600000 lines.\u001b[39G50700000 lines.\u001b[39G50800000 lines.\u001b[39G50900000 lines.\u001b[39G51000000 lines.\u001b[39G51100000 lines.\u001b[39G51200000 lines.\u001b[39G51300000 lines.\u001b[39G51400000 lines.\u001b[39G51500000 lines.\u001b[39G51600000 lines.\u001b[39G51700000 lines.\u001b[39G51800000 lines.\u001b[39G51900000 lines.\u001b[39G52000000 lines.\u001b[39G52100000 lines.\u001b[39G52200000 lines.\u001b[39G52300000 lines.\u001b[39G52400000 lines.\u001b[39G52500000 lines.\u001b[39G52600000 lines.\u001b[39G52700000 lines.\u001b[39G52800000 lines.\u001b[39G52900000 lines.\u001b[39G53000000 lines.\u001b[39G53100000 lines.\u001b[39G53200000 lines.\u001b[39G53300000 lines.\u001b[39G53400000 lines.\u001b[39G53500000 lines.\u001b[39G53600000 lines.\u001b[39G53700000 lines.\u001b[39G53800000 lines.\u001b[39G53900000 lines.\u001b[39G54000000 lines.\u001b[39G54100000 lines.\u001b[39G54200000 lines.\u001b[39G54300000 lines.\u001b[39G54400000 lines.\u001b[39G54500000 lines.\u001b[39G54600000 lines.\u001b[39G54700000 lines.\u001b[39G54800000 lines.\u001b[39G54900000 lines.\u001b[39G55000000 lines.\u001b[39G55100000 lines.\u001b[39G55200000 lines.\u001b[39G55300000 lines.\u001b[39G55400000 lines.\u001b[39G55500000 lines.\u001b[39G55600000 lines.\u001b[39G55700000 lines.\u001b[39G55800000 lines.\u001b[39G55900000 lines.\u001b[39G56000000 lines.\u001b[39G56100000 lines.\u001b[39G56200000 lines.\u001b[39G56300000 lines.\u001b[39G56400000 lines.\u001b[39G56500000 lines.\u001b[39G56600000 lines.\u001b[39G56700000 lines.\u001b[39G56800000 lines.\u001b[39G56900000 lines.\u001b[39G57000000 lines.\u001b[39G57100000 lines.\u001b[39G57200000 lines.\u001b[39G57300000 lines.\u001b[39G57400000 lines.\u001b[39G57500000 lines.\u001b[39G57600000 lines.\u001b[39G57700000 lines.\u001b[39G57800000 lines.\u001b[39G57900000 lines.\u001b[39G58000000 lines.\u001b[39G58100000 lines.\u001b[39G58200000 lines.\u001b[39G58300000 lines.\u001b[39G58400000 lines.\u001b[39G58500000 lines.\u001b[39G58600000 lines.\u001b[39G58700000 lines.\u001b[39G58800000 lines.\u001b[39G58900000 lines.\u001b[39G59000000 lines.\u001b[39G59100000 lines.\u001b[39G59200000 lines.\u001b[39G59300000 lines.\u001b[39G59400000 lines.\u001b[39G59500000 lines.\u001b[39G59600000 lines.\u001b[39G59700000 lines.\u001b[39G59800000 lines.\u001b[39G59900000 lines.\u001b[39G60000000 lines.\u001b[39G60100000 lines.\u001b[39G60200000 lines.\u001b[39G60300000 lines.\u001b[39G60400000 lines.\u001b[39G60500000 lines.\u001b[39G60600000 lines.\u001b[0GMerging cooccurrence files: processed 60666468 lines.\n",
            "\n",
            "$ build/shuffle -memory 4.0 -verbose 2 < cooccurrence.bin > cooccurrence.shuf.bin\n",
            "Using random seed 1688925848\n",
            "SHUFFLING COOCCURRENCES\n",
            "array size: 255013683\n",
            "Shuffling by chunks: processed 0 lines.\u001b[22Gprocessed 60666468 lines.\n",
            "Wrote 1 temporary file(s).\n",
            "Merging temp files: processed 0 lines.\u001b[31G60666468 lines.\u001b[0GMerging temp files: processed 60666468 lines.\n",
            "\n",
            "$ build/glove -save-file vectors -threads 8 -input-file cooccurrence.shuf.bin -x-max 10 -iter 15 -vector-size 50 -binary 2 -vocab-file vocab.txt -verbose 2\n",
            "TRAINING MODEL\n",
            "Read 60666468 lines.\n",
            "Initializing parameters...Using random seed 1688925877\n",
            "done.\n",
            "vector size: 50\n",
            "vocab size: 71290\n",
            "x_max: 10.000000\n",
            "alpha: 0.750000\n",
            "07/09/23 - 06:05.55PM, iter: 001, cost: 0.071293\n",
            "07/09/23 - 06:07.06PM, iter: 002, cost: 0.052730\n",
            "07/09/23 - 06:08.17PM, iter: 003, cost: 0.046724\n",
            "07/09/23 - 06:09.28PM, iter: 004, cost: 0.043397\n",
            "07/09/23 - 06:10.39PM, iter: 005, cost: 0.041457\n",
            "07/09/23 - 06:11.50PM, iter: 006, cost: 0.040177\n",
            "07/09/23 - 06:13.00PM, iter: 007, cost: 0.039267\n",
            "07/09/23 - 06:14.10PM, iter: 008, cost: 0.038583\n",
            "07/09/23 - 06:15.22PM, iter: 009, cost: 0.038042\n",
            "07/09/23 - 06:16.33PM, iter: 010, cost: 0.037606\n",
            "07/09/23 - 06:17.43PM, iter: 011, cost: 0.037240\n",
            "07/09/23 - 06:18.54PM, iter: 012, cost: 0.036936\n",
            "07/09/23 - 06:20.04PM, iter: 013, cost: 0.036672\n",
            "07/09/23 - 06:21.14PM, iter: 014, cost: 0.036441\n",
            "07/09/23 - 06:22.25PM, iter: 015, cost: 0.036240\n",
            "$ python eval/python/evaluate.py\n",
            "capital-common-countries.txt:\n",
            "ACCURACY TOP1: 65.02% (329/506)\n",
            "capital-world.txt:\n",
            "ACCURACY TOP1: 26.77% (954/3564)\n",
            "currency.txt:\n",
            "ACCURACY TOP1: 4.36% (26/596)\n",
            "city-in-state.txt:\n",
            "ACCURACY TOP1: 22.75% (530/2330)\n",
            "family.txt:\n",
            "ACCURACY TOP1: 39.52% (166/420)\n",
            "gram1-adjective-to-adverb.txt:\n",
            "ACCURACY TOP1: 4.03% (40/992)\n",
            "gram2-opposite.txt:\n",
            "ACCURACY TOP1: 3.44% (26/756)\n",
            "gram3-comparative.txt:\n",
            "ACCURACY TOP1: 27.25% (363/1332)\n",
            "gram4-superlative.txt:\n",
            "ACCURACY TOP1: 7.86% (78/992)\n",
            "gram5-present-participle.txt:\n",
            "ACCURACY TOP1: 12.03% (127/1056)\n",
            "gram6-nationality-adjective.txt:\n",
            "ACCURACY TOP1: 58.25% (886/1521)\n",
            "gram7-past-tense.txt:\n",
            "ACCURACY TOP1: 13.72% (214/1560)\n",
            "gram8-plural.txt:\n",
            "ACCURACY TOP1: 24.70% (329/1332)\n",
            "gram9-plural-verbs.txt:\n",
            "ACCURACY TOP1: 6.32% (55/870)\n",
            "Questions seen/total: 91.21% (17827/19544)\n",
            "Semantic accuracy: 27.04%  (2005/7416)\n",
            "Syntactic accuracy: 20.34%  (2118/10411)\n",
            "Total accuracy: 23.13%  (4123/17827)\n"
          ]
        }
      ],
      "source": [
        "#Make edits to demo.sh before running!\n",
        "!cd glove && ./demo.sh"
      ]
    },
    {
      "cell_type": "code",
      "execution_count": 6,
      "metadata": {
        "colab": {
          "base_uri": "https://localhost:8080/"
        },
        "id": "7EHmyALIWPpm",
        "outputId": "fc7db195-63b9-48ea-d17d-932d68a485b8"
      },
      "outputs": [
        {
          "name": "stdout",
          "output_type": "stream",
          "text": [
            "/content\n"
          ]
        }
      ],
      "source": [
        "! pwd"
      ]
    },
    {
      "cell_type": "code",
      "execution_count": 7,
      "metadata": {
        "id": "lNKzGcUEaG47"
      },
      "outputs": [],
      "source": [
        "def check_empty_duplicate_embeddings(embeddings_path):\n",
        "    embeddings = {}\n",
        "    empty_embeddings = 0\n",
        "    duplicate_embeddings = 0\n",
        "\n",
        "    with open(embeddings_path, 'r') as file:\n",
        "        for line in file:\n",
        "            values = line.split()\n",
        "            word = values[0]\n",
        "            vector = np.asarray(values[1:], dtype='float32')\n",
        "\n",
        "            # Check for empty embeddings\n",
        "            if len(vector) == 0:\n",
        "                empty_embeddings += 1\n",
        "\n",
        "            # Check for duplicate embeddings\n",
        "            if word in embeddings:\n",
        "                duplicate_embeddings += 1\n",
        "            else:\n",
        "                embeddings[word] = vector\n",
        "\n",
        "    print(f\"Empty Embeddings: {empty_embeddings}\")\n",
        "    print(f\"Duplicate Embeddings: {duplicate_embeddings}\")\n",
        "\n",
        "    return embeddings"
      ]
    },
    {
      "cell_type": "code",
      "execution_count": 9,
      "metadata": {
        "colab": {
          "base_uri": "https://localhost:8080/"
        },
        "id": "4hoJHXNZRyO2",
        "outputId": "3fc247e0-95ad-4149-b0c6-8a376214c18d"
      },
      "outputs": [
        {
          "name": "stdout",
          "output_type": "stream",
          "text": [
            "Empty Embeddings: 0\n",
            "Duplicate Embeddings: 0\n"
          ]
        }
      ],
      "source": [
        "embeddings_file = \"/content/glove/vectors.txt\"  # Path to the generated GloVe embeddings file\n",
        "embeddings= check_empty_duplicate_embeddings(embeddings_file)\n",
        "\n"
      ]
    },
    {
      "cell_type": "code",
      "execution_count": null,
      "metadata": {
        "id": "x5dyO8WkgKOo"
      },
      "outputs": [],
      "source": [
        "\n"
      ]
    },
    {
      "cell_type": "code",
      "execution_count": 10,
      "metadata": {
        "colab": {
          "base_uri": "https://localhost:8080/"
        },
        "id": "yIPUvx9Ofsrf",
        "outputId": "452a7f1e-6807-4198-8dcd-a0c83e270f92"
      },
      "outputs": [
        {
          "name": "stdout",
          "output_type": "stream",
          "text": [
            "Optimal Depth: 15\n",
            "F1 Score (Macro): 0.6826346035459065\n"
          ]
        }
      ],
      "source": [
        "from sklearn.ensemble import RandomForestClassifier\n",
        "from sklearn.metrics import f1_score\n",
        "from sklearn.model_selection import cross_val_score\n",
        "\n",
        "# Load the pre-trained GloVe embeddings\n",
        "def load_embeddings(embeddings_path):\n",
        "    embeddings = {}\n",
        "    with open(embeddings_path, 'r') as file:\n",
        "        for line in file:\n",
        "            values = line.split()\n",
        "            word = values[0]\n",
        "            vector = np.asarray(values[1:], dtype='float32')\n",
        "            embeddings[word] = vector\n",
        "    return embeddings\n",
        "\n",
        "embeddings_file = \"/content/glove/vectors.txt\"  # Path to the generated GloVe embeddings file\n",
        "embeddings = load_embeddings(embeddings_file)\n",
        "\n",
        "# Define a function to represent sentences as the sum of their word vectors\n",
        "def sentence_to_vector(sentence, embeddings):\n",
        "    words = sentence.split()\n",
        "    vector = np.zeros_like(embeddings[\"the\"])  # Use the vector shape of any word in the embeddings\n",
        "    for word in words:\n",
        "        if word in embeddings:\n",
        "            vector += embeddings[word]\n",
        "    return vector\n",
        "\n",
        "# Prepare the train and test data\n",
        "X_train = np.array([sentence_to_vector(sentence, embeddings) for sentence in train_corpus])\n",
        "y_train = train_data['sentiment']\n",
        "\n",
        "X_test = np.array([sentence_to_vector(sentence, embeddings) for sentence in test_corpus])\n",
        "y_test = test_data['sentiment']\n",
        "\n",
        "# Replace OOV entries with zero vectors\n",
        "X_train[np.isnan(X_train)] = 0\n",
        "X_test[np.isnan(X_test)] = 0\n",
        "\n",
        "# Initialize the Random Forest classifier\n",
        "random_forest = RandomForestClassifier()\n",
        "\n",
        "# Perform 5-fold cross-validation to find the optimal depth\n",
        "depth_scores = []\n",
        "depths = [5, 10, 15]  # Add more depths if needed\n",
        "\n",
        "for depth in depths:\n",
        "    random_forest.set_params(max_depth=depth)\n",
        "    scores = cross_val_score(random_forest, X_train, y_train, cv=5, scoring='f1_macro')\n",
        "    depth_scores.append(scores.mean())\n",
        "\n",
        "# Find the optimal depth\n",
        "optimal_depth = depths[np.argmax(depth_scores)]\n",
        "print(\"Optimal Depth:\", optimal_depth)\n",
        "\n",
        "# Train the Random Forest classifier with the optimal depth\n",
        "random_forest.set_params(max_depth=optimal_depth)\n",
        "random_forest.fit(X_train, y_train)\n",
        "\n",
        "# Predict the test labels\n",
        "y_pred = random_forest.predict(X_test)\n",
        "\n",
        "# Calculate the F1 score (macro) for the classifier\n",
        "f1_macro = f1_score(y_test, y_pred, average='macro')\n",
        "print(\"F1 Score (Macro):\", f1_macro)\n"
      ]
    },
    {
      "cell_type": "code",
      "execution_count": null,
      "metadata": {
        "id": "kyc6rPBvBjY-"
      },
      "outputs": [],
      "source": [
        "\n"
      ]
    },
    {
      "cell_type": "code",
      "execution_count": 11,
      "metadata": {
        "colab": {
          "base_uri": "https://localhost:8080/",
          "height": 564
        },
        "id": "bt34eG6mOMcQ",
        "outputId": "6344c6ce-691a-4a0e-9404-d19daa42e558"
      },
      "outputs": [
        {
          "data": {
            "image/png": "[encoded data removed]",
            "text/plain": [
              "<Figure size 1000x600 with 1 Axes>"
            ]
          },
          "metadata": {},
          "output_type": "display_data"
        }
      ],
      "source": [
        "import matplotlib.pyplot as plt\n",
        "import numpy as np\n",
        "from sklearn.metrics import f1_score\n",
        "\n",
        "vector_sizes = [50, 100, 200, 300]  # Vector embedding sizes\n",
        "context_lengths = [5, 10, 15]  # Context lengths\n",
        "\n",
        "# Initialize an empty 2D array for storing F1 scores\n",
        "f1_scores = np.zeros((len(vector_sizes), len(context_lengths)))\n",
        "\n",
        "for i, vector_size in enumerate(vector_sizes):\n",
        "    for j, context_length in enumerate(context_lengths):\n",
        "        # Train the GloVe embeddings with the current vector size and context length\n",
        "        embeddings_file = f\"/content/glove/vectors.txt\"  # Path to the GloVe embeddings file\n",
        "        embeddings = load_embeddings(embeddings_file)\n",
        "\n",
        "        # Prepare the train and test data using the new embeddings\n",
        "        X_train = np.array([sentence_to_vector(sentence, embeddings) for sentence in train_corpus])\n",
        "        y_train = train_data['sentiment']\n",
        "\n",
        "        X_test = np.array([sentence_to_vector(sentence, embeddings) for sentence in test_corpus])\n",
        "        y_test = test_data['sentiment']\n",
        "\n",
        "        # Replace OOV entries with zero vectors\n",
        "        X_train[np.isnan(X_train)] = 0\n",
        "        X_test[np.isnan(X_test)] = 0\n",
        "\n",
        "        # Train the Random Forest classifier\n",
        "        random_forest.set_params(max_depth=optimal_depth)\n",
        "        random_forest.fit(X_train, y_train)\n",
        "\n",
        "        # Predict the test labels\n",
        "        y_pred = random_forest.predict(X_test)\n",
        "\n",
        "        # Calculate the F1 score (macro) for the classifier\n",
        "        score = f1_score(y_test, y_pred, average='macro')\n",
        "\n",
        "        # Store the F1 score in the array\n",
        "        f1_scores[i, j] = score\n",
        "\n",
        "# Plot the classifier performance\n",
        "plt.figure(figsize=(10, 6))\n",
        "for i, vector_size in enumerate(vector_sizes):\n",
        "    plt.plot(context_lengths, f1_scores[i], marker='o', label=f\"Vector Size: {vector_size}\")\n",
        "plt.xlabel('Context Length')\n",
        "plt.ylabel('F1 Score (Macro)')\n",
        "plt.title('Classifier Performance for Different Vector Sizes and Context Lengths')\n",
        "plt.legend()\n",
        "plt.grid(True)\n",
        "plt.show()\n"
      ]
    },
    {
      "cell_type": "markdown",
      "metadata": {
        "id": "ymMc1ub_fAtq"
      },
      "source": [
        "## Financial Phrasebank"
      ]
    },
    {
      "cell_type": "code",
      "execution_count": 11,
      "metadata": {
        "id": "80SMPgDzRxg6"
      },
      "outputs": [],
      "source": []
    },
    {
      "cell_type": "code",
      "execution_count": 12,
      "metadata": {
        "colab": {
          "base_uri": "https://localhost:8080/"
        },
        "id": "WsrUH0wxdXrl",
        "outputId": "5a465fea-71fc-426f-b4b7-3502a4bbe9f3"
      },
      "outputs": [
        {
          "name": "stdout",
          "output_type": "stream",
          "text": [
            "Collecting datasets\n",
            "  Downloading datasets-2.13.1-py3-none-any.whl (486 kB)\n",
            "\u001b[?25l     \u001b[90m━━━━━━━━━━━━━━━━━━━━━━━━━━━━━━━━━━━━━━━━\u001b[0m \u001b[32m0.0/486.2 kB\u001b[0m \u001b[31m?\u001b[0m eta \u001b[36m-:--:--\u001b[0m\r\u001b[2K     \u001b[90m━━━━━━━━━━━━━━━━━━━━━━━━━━━━━━━━━━━━━━\u001b[0m \u001b[32m486.2/486.2 kB\u001b[0m \u001b[31m31.2 MB/s\u001b[0m eta \u001b[36m0:00:00\u001b[0m\n",
            "\u001b[?25hRequirement already satisfied: numpy>=1.17 in /usr/local/lib/python3.10/dist-packages (from datasets) (1.22.4)\n",
            "Requirement already satisfied: pyarrow>=8.0.0 in /usr/local/lib/python3.10/dist-packages (from datasets) (9.0.0)\n",
            "Collecting dill<0.3.7,>=0.3.0 (from datasets)\n",
            "  Downloading dill-0.3.6-py3-none-any.whl (110 kB)\n",
            "\u001b[2K     \u001b[90m━━━━━━━━━━━━━━━━━━━━━━━━━━━━━━━━━━━━━━\u001b[0m \u001b[32m110.5/110.5 kB\u001b[0m \u001b[31m12.5 MB/s\u001b[0m eta \u001b[36m0:00:00\u001b[0m\n",
            "\u001b[?25hRequirement already satisfied: pandas in /usr/local/lib/python3.10/dist-packages (from datasets) (1.5.3)\n",
            "Requirement already satisfied: requests>=2.19.0 in /usr/local/lib/python3.10/dist-packages (from datasets) (2.27.1)\n",
            "Requirement already satisfied: tqdm>=4.62.1 in /usr/local/lib/python3.10/dist-packages (from datasets) (4.65.0)\n",
            "Collecting xxhash (from datasets)\n",
            "  Downloading xxhash-3.2.0-cp310-cp310-manylinux_2_17_x86_64.manylinux2014_x86_64.whl (212 kB)\n",
            "\u001b[2K     \u001b[90m━━━━━━━━━━━━━━━━━━━━━━━━━━━━━━━━━━━━━━\u001b[0m \u001b[32m212.5/212.5 kB\u001b[0m \u001b[31m27.1 MB/s\u001b[0m eta \u001b[36m0:00:00\u001b[0m\n",
            "\u001b[?25hCollecting multiprocess (from datasets)\n",
            "  Downloading multiprocess-0.70.14-py310-none-any.whl (134 kB)\n",
            "\u001b[2K     \u001b[90m━━━━━━━━━━━━━━━━━━━━━━━━━━━━━━━━━━━━━━\u001b[0m \u001b[32m134.3/134.3 kB\u001b[0m \u001b[31m19.9 MB/s\u001b[0m eta \u001b[36m0:00:00\u001b[0m\n",
            "\u001b[?25hRequirement already satisfied: fsspec[http]>=2021.11.1 in /usr/local/lib/python3.10/dist-packages (from datasets) (2023.6.0)\n",
            "Requirement already satisfied: aiohttp in /usr/local/lib/python3.10/dist-packages (from datasets) (3.8.4)\n",
            "Collecting huggingface-hub<1.0.0,>=0.11.0 (from datasets)\n",
            "  Downloading huggingface_hub-0.16.4-py3-none-any.whl (268 kB)\n",
            "\u001b[2K     \u001b[90m━━━━━━━━━━━━━━━━━━━━━━━━━━━━━━━━━━━━━━\u001b[0m \u001b[32m268.8/268.8 kB\u001b[0m \u001b[31m34.3 MB/s\u001b[0m eta \u001b[36m0:00:00\u001b[0m\n",
            "\u001b[?25hRequirement already satisfied: packaging in /usr/local/lib/python3.10/dist-packages (from datasets) (23.1)\n",
            "Requirement already satisfied: pyyaml>=5.1 in /usr/local/lib/python3.10/dist-packages (from datasets) (6.0)\n",
            "Requirement already satisfied: attrs>=17.3.0 in /usr/local/lib/python3.10/dist-packages (from aiohttp->datasets) (23.1.0)\n",
            "Requirement already satisfied: charset-normalizer<4.0,>=2.0 in /usr/local/lib/python3.10/dist-packages (from aiohttp->datasets) (2.0.12)\n",
            "Requirement already satisfied: multidict<7.0,>=4.5 in /usr/local/lib/python3.10/dist-packages (from aiohttp->datasets) (6.0.4)\n",
            "Requirement already satisfied: async-timeout<5.0,>=4.0.0a3 in /usr/local/lib/python3.10/dist-packages (from aiohttp->datasets) (4.0.2)\n",
            "Requirement already satisfied: yarl<2.0,>=1.0 in /usr/local/lib/python3.10/dist-packages (from aiohttp->datasets) (1.9.2)\n",
            "Requirement already satisfied: frozenlist>=1.1.1 in /usr/local/lib/python3.10/dist-packages (from aiohttp->datasets) (1.3.3)\n",
            "Requirement already satisfied: aiosignal>=1.1.2 in /usr/local/lib/python3.10/dist-packages (from aiohttp->datasets) (1.3.1)\n",
            "Requirement already satisfied: filelock in /usr/local/lib/python3.10/dist-packages (from huggingface-hub<1.0.0,>=0.11.0->datasets) (3.12.2)\n",
            "Requirement already satisfied: typing-extensions>=3.7.4.3 in /usr/local/lib/python3.10/dist-packages (from huggingface-hub<1.0.0,>=0.11.0->datasets) (4.6.3)\n",
            "Requirement already satisfied: urllib3<1.27,>=1.21.1 in /usr/local/lib/python3.10/dist-packages (from requests>=2.19.0->datasets) (1.26.16)\n",
            "Requirement already satisfied: certifi>=2017.4.17 in /usr/local/lib/python3.10/dist-packages (from requests>=2.19.0->datasets) (2023.5.7)\n",
            "Requirement already satisfied: idna<4,>=2.5 in /usr/local/lib/python3.10/dist-packages (from requests>=2.19.0->datasets) (3.4)\n",
            "Requirement already satisfied: python-dateutil>=2.8.1 in /usr/local/lib/python3.10/dist-packages (from pandas->datasets) (2.8.2)\n",
            "Requirement already satisfied: pytz>=2020.1 in /usr/local/lib/python3.10/dist-packages (from pandas->datasets) (2022.7.1)\n",
            "Requirement already satisfied: six>=1.5 in /usr/local/lib/python3.10/dist-packages (from python-dateutil>=2.8.1->pandas->datasets) (1.16.0)\n",
            "Installing collected packages: xxhash, dill, multiprocess, huggingface-hub, datasets\n",
            "Successfully installed datasets-2.13.1 dill-0.3.6 huggingface-hub-0.16.4 multiprocess-0.70.14 xxhash-3.2.0\n"
          ]
        }
      ],
      "source": [
        " ! pip install datasets"
      ]
    },
    {
      "cell_type": "code",
      "execution_count": 13,
      "metadata": {
        "colab": {
          "base_uri": "https://localhost:8080/",
          "height": 232,
          "referenced_widgets": [
            "bff99cc589f448b0ac84d2b6dbf983ed",
            "c756018ef03b4b4daecada60ba262aa6",
            "7b06a3e96ac24ba398b8c99a7083b542",
            "cf23c39d49274508914620de53c9136c",
            "62fad522e25c45639f9ba46a37d2c08c",
            "4b3741da70954f62b8effac355897645",
            "d08dc2625dfe44a4a1c466198076cfc0",
            "b1df9100af874129b1ffce73f2ee0db5",
            "3bdfd9a5d4e54f248d0cd82d3a606810",
            "161be74c23fd483aa2394bd945fbb915",
            "49a35c74651747b5aaa8eac8f882df0d",
            "50ac01f752bf446498116913be3f74d5",
            "3c88d53e92804d9d83f3020f484c485b",
            "5ce3b4b75af942298ef77f3f7ab77bf7",
            "17a9a67f875e471ab52bed0211d458da",
            "7b3db3a91222456eba62647a6daea0b8",
            "f40bf831875748258029f998cdc4085f",
            "a467b4bda44141fbad61a448d9362194",
            "dc788ef786d5462ea0b1d22f08f00f33",
            "3b03644520d1468b894b8f5b3c14790d",
            "c541c9d2a66442f899ba111ece7efbe7",
            "66c6bdb46f924277b3fbe13763f9311d",
            "1b0e2491c74046ef894bae840134dc89",
            "0004169979534ba6866cdc5bd51a2838",
            "bee18892309245d29a8b6627198ce9a3",
            "d95f957157da4012aabdca0005ec6e03",
            "b9c3f58af829433fa098639bc3032359",
            "55312c449f1840f295d52800c956e832",
            "edb3c6d32d0a43ac89558e779145201f",
            "011232d5bde84c109a9a88d2df729973",
            "8013396cebc9402da72335d0a607d20a",
            "fcb6b02be5724ae4a6411f1575673190",
            "63d1226bbaa045b2b35fd81276d4f5a4",
            "b9e9a8a0f50a4f148e783f623829972b",
            "06defde212594ae0b3521de3708652fc",
            "01b71fc490614a9d83a397cad96c0a54",
            "4670d369c63b486fadfaa5aa13b6cf0c",
            "56c461675f2e484b9f2300cca424f9f4",
            "427a57c77db7420b896a4b70519a7513",
            "52c0ec2bbfb5445b824dce46ca848fdd",
            "11499a13dbd049c7b43f3eef47383aa3",
            "b706b65bf44547e183ad8147efaad25f",
            "e31f51ac8d5b43c68a5e98742be80a8e",
            "558f6d4d44f04ff7830a8a3f4e701a5e",
            "8e60c02573114800b72873b4e2ada37c",
            "694bb6f3afbf435d967fdf262c5eb79d",
            "edf8a02122b4473da73b5108f5ca474e",
            "491c6643f3ba46c8857d8fa442bc933b",
            "2324d446b91842958e5e4a426b1c58b6",
            "f260e7c2eb6c4700a315acc5d7ed88cf",
            "cd337499be7d49e9bddaec0b2729ed12",
            "c385ed1da62c4093a3e164e83899cf5b",
            "f7dfe663aa6c468594a893b21b542688",
            "c225ec73f22c4717972b33b57037a053",
            "0dbffb81d8f74822b8f2bb589a708525",
            "2df99ab27de64a8980ade153bf136aa0",
            "27f847b1ddf746649174e0a1701bfdb9",
            "11e134b180c24b5c94756ec040be15f6",
            "8ff98e9ba43344c0aafe8d5ec612081b",
            "4259e444f70845d8aebc42299bc63f98",
            "8003cd41b4c34a01b7e1314486cab1da",
            "34aabff91dbb4056bffa0577efeaad31",
            "e3176a28263f4c5fb61916663a2736e6",
            "c0d23a44412f4950a84ebff02cd56dae",
            "f91426d9b5814f1aa179aa21798be269",
            "dc6a45ff67b64207ba30929f30eb57d2"
          ]
        },
        "id": "XRth0jh4cuYr",
        "outputId": "75d004ab-cd19-4f82-e0b5-e86e03bfa5ed"
      },
      "outputs": [
        {
          "data": {
            "application/vnd.jupyter.widget-view+json": {
              "model_id": "bff99cc589f448b0ac84d2b6dbf983ed",
              "version_major": 2,
              "version_minor": 0
            },
            "text/plain": [
              "Downloading builder script:   0%|          | 0.00/6.04k [00:00<?, ?B/s]"
            ]
          },
          "metadata": {},
          "output_type": "display_data"
        },
        {
          "data": {
            "application/vnd.jupyter.widget-view+json": {
              "model_id": "50ac01f752bf446498116913be3f74d5",
              "version_major": 2,
              "version_minor": 0
            },
            "text/plain": [
              "Downloading metadata:   0%|          | 0.00/13.7k [00:00<?, ?B/s]"
            ]
          },
          "metadata": {},
          "output_type": "display_data"
        },
        {
          "data": {
            "application/vnd.jupyter.widget-view+json": {
              "model_id": "1b0e2491c74046ef894bae840134dc89",
              "version_major": 2,
              "version_minor": 0
            },
            "text/plain": [
              "Downloading readme:   0%|          | 0.00/8.86k [00:00<?, ?B/s]"
            ]
          },
          "metadata": {},
          "output_type": "display_data"
        },
        {
          "name": "stdout",
          "output_type": "stream",
          "text": [
            "Downloading and preparing dataset financial_phrasebank/sentences_75agree to /root/.cache/huggingface/datasets/financial_phrasebank/sentences_75agree/1.0.0/550bde12e6c30e2674da973a55f57edde5181d53f5a5a34c1531c53f93b7e141...\n"
          ]
        },
        {
          "data": {
            "application/vnd.jupyter.widget-view+json": {
              "model_id": "b9e9a8a0f50a4f148e783f623829972b",
              "version_major": 2,
              "version_minor": 0
            },
            "text/plain": [
              "Downloading data:   0%|          | 0.00/682k [00:00<?, ?B/s]"
            ]
          },
          "metadata": {},
          "output_type": "display_data"
        },
        {
          "data": {
            "application/vnd.jupyter.widget-view+json": {
              "model_id": "8e60c02573114800b72873b4e2ada37c",
              "version_major": 2,
              "version_minor": 0
            },
            "text/plain": [
              "Generating train split:   0%|          | 0/3453 [00:00<?, ? examples/s]"
            ]
          },
          "metadata": {},
          "output_type": "display_data"
        },
        {
          "name": "stdout",
          "output_type": "stream",
          "text": [
            "Dataset financial_phrasebank downloaded and prepared to /root/.cache/huggingface/datasets/financial_phrasebank/sentences_75agree/1.0.0/550bde12e6c30e2674da973a55f57edde5181d53f5a5a34c1531c53f93b7e141. Subsequent calls will reuse this data.\n"
          ]
        },
        {
          "data": {
            "application/vnd.jupyter.widget-view+json": {
              "model_id": "2df99ab27de64a8980ade153bf136aa0",
              "version_major": 2,
              "version_minor": 0
            },
            "text/plain": [
              "  0%|          | 0/1 [00:00<?, ?it/s]"
            ]
          },
          "metadata": {},
          "output_type": "display_data"
        }
      ],
      "source": [
        "from datasets import load_dataset\n",
        "dataset = load_dataset(\"financial_phrasebank\", 'sentences_75agree')\n",
        "#1 - Neutral, 2- positive, 3 - negative\n",
        "\n",
        "test_financial=dataset['train'].to_pandas()"
      ]
    },
    {
      "cell_type": "markdown",
      "metadata": {
        "id": "AFAFvzfS7Hcf"
      },
      "source": [
        "# Question 3: Training word2vec embeddings (10 points)\n",
        "\n",
        "Let's train our own word2vec embeddings!\n",
        "\n",
        "Some libraries are readily available to train your own word2vec embeddings. We're gonna keep it fun and you will implement some small intermediary code to gain further intuitions.\n",
        "\n",
        "1. Re-use the splits you used for the GloVe training. Alternatively, if you skipped the GloVe training, split the corpus into `train:test` using a `50:50` ratio. Remove all punctuations and lowercase the corpus.\n",
        "\n",
        "2. Implement a function that, given a window of words, a negative sample rate and a vocabulary, for every word generates training examples for a model with a negative example rate of `negative_sample_rate`. Note: you will **not** be using the resulting code of this exercise for further points. (3 points)\n",
        "\n",
        "2. Train your own word2vec embeddings from scratch using the [gensim](https://radimrehurek.com/gensim/models/word2vec.html) library. Perform 5-fold cross validation to find optimal values for the sampling rate, the length of the vector and the context size. (2 points)\n",
        "\n",
        "3. Use the resulting embeddings to train a sentiment classifier using your train data. Represent each sentence as the **sum** of word2vec vectors for the tokens in the text and train a random classifier (use the parameters from Q2.4; if you skipped that question use 5-fold cross validation for the tree depth). Handle OOV tokens with zero vectors. Print the F1 score (macro) for your classifier. (2 points)\n",
        "\n",
        "4. Now replace your embeddings with the pre-trained word2vec embeddings trained on Google News [[Link](https://radimrehurek.com/gensim/models/word2vec.html#pretrained-models)]. Re-run the classification experiments. To what do you attribute the shift in performance? (2 points)\n",
        "\n",
        "5. Compare the word2vec and GloVe embeddings you built. (1 point)"
      ]
    },
    {
      "cell_type": "code",
      "execution_count": 14,
      "metadata": {
        "id": "GnH72ow47DiA"
      },
      "outputs": [],
      "source": [
        "# Install necessary packages\n",
        "!pip install -q pandas gensim nltk tqdm scikit-learn"
      ]
    },
    {
      "cell_type": "code",
      "execution_count": 15,
      "metadata": {
        "colab": {
          "base_uri": "https://localhost:8080/"
        },
        "id": "NTS2Lkfo7LpK",
        "outputId": "05306750-c44d-4f61-f2e2-ce9c8cb1acdd"
      },
      "outputs": [
        {
          "name": "stderr",
          "output_type": "stream",
          "text": [
            "[nltk_data] Downloading package punkt to /root/nltk_data...\n",
            "[nltk_data]   Unzipping tokenizers/punkt.zip.\n",
            "[nltk_data] Downloading package stopwords to /root/nltk_data...\n",
            "[nltk_data]   Unzipping corpora/stopwords.zip.\n"
          ]
        }
      ],
      "source": [
        "# Import necessary packages\n",
        "# Feel free to add more libraries here\n",
        "import re\n",
        "import nltk\n",
        "nltk.download('punkt')\n",
        "nltk.download('stopwords')\n",
        "from nltk.corpus import stopwords\n",
        "from nltk.tokenize import word_tokenize\n"
      ]
    },
    {
      "cell_type": "code",
      "execution_count": 16,
      "metadata": {
        "id": "aDvzEwo47N3J"
      },
      "outputs": [],
      "source": [
        "def preprocess_text(text: str, remove_stopwords: bool) -> str:\n",
        "    # Remove punctuation\n",
        "    translator = str.maketrans('', '', string.punctuation)\n",
        "    text = text.translate(translator)\n",
        "\n",
        "    # Lowercase the text\n",
        "    text = text.lower()\n",
        "\n",
        "    # Tokenize the text\n",
        "    tokens = word_tokenize(text)\n",
        "\n",
        "    # Remove stopwords if specified\n",
        "    if remove_stopwords:\n",
        "        stop_words = set(stopwords.words('english'))\n",
        "        tokens = [token for token in tokens if token.lower() not in stop_words]\n",
        "\n",
        "    # Join the tokens back into a single string\n",
        "    processed_text = ' '.join(tokens)\n",
        "\n",
        "    return processed_text"
      ]
    },
    {
      "cell_type": "code",
      "execution_count": 17,
      "metadata": {
        "id": "4_iP34Q57PKv"
      },
      "outputs": [],
      "source": [
        "# Preprocess your data with the above method\n",
        "train_fold = [preprocess_text(review, remove_stopwords=True).split() for review in train_corpus]"
      ]
    },
    {
      "cell_type": "code",
      "execution_count": 17,
      "metadata": {
        "id": "KT4uKH7gsUdC"
      },
      "outputs": [],
      "source": []
    },
    {
      "cell_type": "markdown",
      "metadata": {
        "id": "0O561QxNq8sH"
      },
      "source": [
        "### Implement your own negative sampling"
      ]
    },
    {
      "cell_type": "code",
      "execution_count": 18,
      "metadata": {
        "id": "V6kNaNU6q6zg"
      },
      "outputs": [],
      "source": [
        "import random\n",
        "\n",
        "def negative_sampling(context, window_size, vocabulary, sampling_rate):\n",
        "    negative_samples = []\n",
        "    context_words = context.split()\n",
        "    target_index = len(context_words) // 2\n",
        "\n",
        "    # Positive example\n",
        "    target_word = context_words[target_index]\n",
        "    positive_example = (target_word, context_words[:target_index] + context_words[target_index+1:])\n",
        "    negative_samples.append((positive_example, 1))\n",
        "\n",
        "    # Negative examples\n",
        "    num_negative_samples = int(len(context_words) * window_size * sampling_rate)\n",
        "    for _ in range(num_negative_samples):\n",
        "        negative_word = random.choice(vocabulary)\n",
        "        negative_example = (target_word, context_words[:target_index] + [negative_word] + context_words[target_index+1:])\n",
        "        negative_samples.append((negative_example, 0))\n",
        "\n",
        "    return negative_samples\n"
      ]
    },
    {
      "cell_type": "markdown",
      "metadata": {
        "id": "rsSa7d-ArDgB"
      },
      "source": [
        "### Train your own embeddings"
      ]
    },
    {
      "cell_type": "code",
      "execution_count": 19,
      "metadata": {
        "colab": {
          "base_uri": "https://localhost:8080/",
          "height": 235
        },
        "id": "2gEiW-gf7SlR",
        "outputId": "bce69ef6-a465-4a65-ad04-a09a4c7ce66a"
      },
      "outputs": [
        {
          "ename": "NameError",
          "evalue": "ignored",
          "output_type": "error",
          "traceback": [
            "\u001b[0;31m---------------------------------------------------------------------------\u001b[0m",
            "\u001b[0;31mNameError\u001b[0m                                 Traceback (most recent call last)",
            "\u001b[0;32m<ipython-input-19-658763637817>\u001b[0m in \u001b[0;36m<cell line: 4>\u001b[0;34m()\u001b[0m\n\u001b[1;32m      2\u001b[0m \u001b[0;34m\u001b[0m\u001b[0m\n\u001b[1;32m      3\u001b[0m \u001b[0;31m# Train your Word2Vec model\u001b[0m\u001b[0;34m\u001b[0m\u001b[0;34m\u001b[0m\u001b[0m\n\u001b[0;32m----> 4\u001b[0;31m model = Word2Vec(sentences=train,\n\u001b[0m\u001b[1;32m      5\u001b[0m                  \u001b[0mvector_size\u001b[0m\u001b[0;34m=\u001b[0m\u001b[0;36m100\u001b[0m\u001b[0;34m,\u001b[0m \u001b[0;31m# Dimensionality of vectors\u001b[0m\u001b[0;34m\u001b[0m\u001b[0;34m\u001b[0m\u001b[0m\n\u001b[1;32m      6\u001b[0m                  \u001b[0mmin_count\u001b[0m \u001b[0;34m=\u001b[0m \u001b[0;36m5\u001b[0m\u001b[0;34m,\u001b[0m \u001b[0;31m# Restricting vocabulary based on counts\u001b[0m\u001b[0;34m\u001b[0m\u001b[0;34m\u001b[0m\u001b[0m\n",
            "\u001b[0;31mNameError\u001b[0m: name 'train' is not defined"
          ]
        }
      ],
      "source": [
        "from gensim.models import Word2Vec\n",
        "\n",
        "# Train your Word2Vec model\n",
        "model = Word2Vec(sentences=train,\n",
        "                 vector_size=100, # Dimensionality of vectors\n",
        "                 min_count = 5, # Restricting vocabulary based on counts\n",
        "                 window = 5, # Window size\n",
        "                 max_vocab_size = None, # Restrict vocab size by fixed number\n",
        "                 sg = 0, # skip-gram\n",
        "                 hs = 0, # hierarchical softmax\n",
        "                 negative = 5 # use negative sampling and the rate\n",
        "         )"
      ]
    },
    {
      "cell_type": "code",
      "execution_count": null,
      "metadata": {
        "colab": {
          "base_uri": "https://localhost:8080/"
        },
        "id": "IwTZPeX9wipc",
        "outputId": "b5be71fa-b793-4840-8a93-77ea397d7a86"
      },
      "outputs": [
        {
          "name": "stderr",
          "output_type": "stream",
          "text": [
            "WARNING:gensim.models.word2vec:Each 'sentences' item should be a list of words (usually unicode strings). First item here is instead plain <class 'str'>.\n",
            "WARNING:gensim.models.word2vec:Each 'sentences' item should be a list of words (usually unicode strings). First item here is instead plain <class 'str'>.\n",
            "WARNING:gensim.models.word2vec:Each 'sentences' item should be a list of words (usually unicode strings). First item here is instead plain <class 'str'>.\n",
            "WARNING:gensim.models.word2vec:Each 'sentences' item should be a list of words (usually unicode strings). First item here is instead plain <class 'str'>.\n",
            "WARNING:gensim.models.word2vec:Each 'sentences' item should be a list of words (usually unicode strings). First item here is instead plain <class 'str'>.\n",
            "WARNING:gensim.models.word2vec:Each 'sentences' item should be a list of words (usually unicode strings). First item here is instead plain <class 'str'>.\n",
            "WARNING:gensim.models.word2vec:Each 'sentences' item should be a list of words (usually unicode strings). First item here is instead plain <class 'str'>.\n",
            "WARNING:gensim.models.word2vec:Each 'sentences' item should be a list of words (usually unicode strings). First item here is instead plain <class 'str'>.\n",
            "WARNING:gensim.models.word2vec:Each 'sentences' item should be a list of words (usually unicode strings). First item here is instead plain <class 'str'>.\n",
            "WARNING:gensim.models.word2vec:Each 'sentences' item should be a list of words (usually unicode strings). First item here is instead plain <class 'str'>.\n",
            "WARNING:gensim.models.word2vec:Each 'sentences' item should be a list of words (usually unicode strings). First item here is instead plain <class 'str'>.\n",
            "WARNING:gensim.models.word2vec:Each 'sentences' item should be a list of words (usually unicode strings). First item here is instead plain <class 'str'>.\n",
            "WARNING:gensim.models.word2vec:Each 'sentences' item should be a list of words (usually unicode strings). First item here is instead plain <class 'str'>.\n",
            "WARNING:gensim.models.word2vec:Each 'sentences' item should be a list of words (usually unicode strings). First item here is instead plain <class 'str'>.\n",
            "WARNING:gensim.models.word2vec:Each 'sentences' item should be a list of words (usually unicode strings). First item here is instead plain <class 'str'>.\n",
            "WARNING:gensim.models.word2vec:Each 'sentences' item should be a list of words (usually unicode strings). First item here is instead plain <class 'str'>.\n",
            "WARNING:gensim.models.word2vec:Each 'sentences' item should be a list of words (usually unicode strings). First item here is instead plain <class 'str'>.\n",
            "WARNING:gensim.models.word2vec:Each 'sentences' item should be a list of words (usually unicode strings). First item here is instead plain <class 'str'>.\n",
            "WARNING:gensim.models.word2vec:Each 'sentences' item should be a list of words (usually unicode strings). First item here is instead plain <class 'str'>.\n",
            "WARNING:gensim.models.word2vec:Each 'sentences' item should be a list of words (usually unicode strings). First item here is instead plain <class 'str'>.\n",
            "WARNING:gensim.models.word2vec:Each 'sentences' item should be a list of words (usually unicode strings). First item here is instead plain <class 'str'>.\n",
            "WARNING:gensim.models.word2vec:Each 'sentences' item should be a list of words (usually unicode strings). First item here is instead plain <class 'str'>.\n",
            "WARNING:gensim.models.word2vec:Each 'sentences' item should be a list of words (usually unicode strings). First item here is instead plain <class 'str'>.\n",
            "WARNING:gensim.models.word2vec:Each 'sentences' item should be a list of words (usually unicode strings). First item here is instead plain <class 'str'>.\n",
            "WARNING:gensim.models.word2vec:Each 'sentences' item should be a list of words (usually unicode strings). First item here is instead plain <class 'str'>.\n",
            "WARNING:gensim.models.word2vec:Each 'sentences' item should be a list of words (usually unicode strings). First item here is instead plain <class 'str'>.\n",
            "WARNING:gensim.models.word2vec:Each 'sentences' item should be a list of words (usually unicode strings). First item here is instead plain <class 'str'>.\n",
            "WARNING:gensim.models.word2vec:Each 'sentences' item should be a list of words (usually unicode strings). First item here is instead plain <class 'str'>.\n",
            "WARNING:gensim.models.word2vec:Each 'sentences' item should be a list of words (usually unicode strings). First item here is instead plain <class 'str'>.\n",
            "WARNING:gensim.models.word2vec:Each 'sentences' item should be a list of words (usually unicode strings). First item here is instead plain <class 'str'>.\n",
            "WARNING:gensim.models.word2vec:Each 'sentences' item should be a list of words (usually unicode strings). First item here is instead plain <class 'str'>.\n",
            "WARNING:gensim.models.word2vec:Each 'sentences' item should be a list of words (usually unicode strings). First item here is instead plain <class 'str'>.\n",
            "WARNING:gensim.models.word2vec:Each 'sentences' item should be a list of words (usually unicode strings). First item here is instead plain <class 'str'>.\n",
            "WARNING:gensim.models.word2vec:Each 'sentences' item should be a list of words (usually unicode strings). First item here is instead plain <class 'str'>.\n",
            "WARNING:gensim.models.word2vec:Each 'sentences' item should be a list of words (usually unicode strings). First item here is instead plain <class 'str'>.\n",
            "WARNING:gensim.models.word2vec:Each 'sentences' item should be a list of words (usually unicode strings). First item here is instead plain <class 'str'>.\n",
            "WARNING:gensim.models.word2vec:Each 'sentences' item should be a list of words (usually unicode strings). First item here is instead plain <class 'str'>.\n",
            "WARNING:gensim.models.word2vec:Each 'sentences' item should be a list of words (usually unicode strings). First item here is instead plain <class 'str'>.\n",
            "WARNING:gensim.models.word2vec:Each 'sentences' item should be a list of words (usually unicode strings). First item here is instead plain <class 'str'>.\n",
            "WARNING:gensim.models.word2vec:Each 'sentences' item should be a list of words (usually unicode strings). First item here is instead plain <class 'str'>.\n"
          ]
        },
        {
          "name": "stdout",
          "output_type": "stream",
          "text": [
            "Best parameters: {'sampling_rate': 0.001, 'vector_length': 50, 'context_size': 5}\n",
            "Best loss: 10865145.0\n"
          ]
        }
      ],
      "source": [
        "import numpy as np\n",
        "from gensim.models import Word2Vec\n",
        "from sklearn.model_selection import KFold\n",
        "\n",
        "# Define the parameter values to test in the cross-validation\n",
        "sampling_rates = [0.001, 0.01]\n",
        "vector_lengths = [50, 100]\n",
        "context_sizes = [5, 7]\n",
        "\n",
        "# Create a function to train and evaluate the Word2Vec model with different parameter combinations\n",
        "def train_and_evaluate_model(sampling_rate, vector_length, context_size):\n",
        "    fold_losses = []\n",
        "    kf = KFold(n_splits=5, shuffle=True, random_state=42)\n",
        "    for train_indices, val_indices in kf.split(train):\n",
        "        train_fold = [train[i] for i in train_indices]\n",
        "        val_fold = [train[i] for i in val_indices]\n",
        "\n",
        "        # Train the Word2Vec model\n",
        "        model = Word2Vec(sentences=train_fold,\n",
        "                         vector_size=vector_length,\n",
        "                         min_count=5,\n",
        "                         window=context_size,\n",
        "                         sample=sampling_rate,\n",
        "                         sg=0,\n",
        "                         hs=0,\n",
        "                         negative=5,\n",
        "                         compute_loss=True)  # Enable loss computation during training\n",
        "\n",
        "        # Get the loss value after training\n",
        "        loss = model.get_latest_training_loss()\n",
        "        fold_losses.append(loss)\n",
        "\n",
        "    mean_loss = np.mean(fold_losses)\n",
        "    return mean_loss\n",
        "\n",
        "# Modify the train variable to have multiple samples (preprocessed reviews)\n",
        "train = [preprocess_text(review, remove_stopwords=True) for review in train_data['review'].tolist()]\n",
        "\n",
        "# Perform cross-validation to find the optimal parameter values\n",
        "best_loss = float('inf')\n",
        "best_params = {}\n",
        "for rate in sampling_rates:\n",
        "    for length in vector_lengths:\n",
        "        for size in context_sizes:\n",
        "            loss = train_and_evaluate_model(rate, length, size)\n",
        "            if loss < best_loss:\n",
        "                best_loss = loss\n",
        "                best_params = {'sampling_rate': rate, 'vector_length': length, 'context_size': size}\n",
        "\n",
        "# Print the best parameter values and the corresponding loss\n",
        "print(\"Best parameters:\", best_params)\n",
        "print(\"Best loss:\", best_loss)\n"
      ]
    },
    {
      "cell_type": "code",
      "execution_count": null,
      "metadata": {
        "id": "Ifbp4CCkmroM"
      },
      "outputs": [],
      "source": [
        "best_vector_length=100\n",
        "best_sampling_rate=0.001\n",
        "best_context_size=7"
      ]
    },
    {
      "cell_type": "code",
      "execution_count": null,
      "metadata": {
        "colab": {
          "base_uri": "https://localhost:8080/"
        },
        "id": "anLskwr0mjSV",
        "outputId": "805d0aa8-fc1b-4d61-9816-b80a9fe8a97e"
      },
      "outputs": [
        {
          "name": "stdout",
          "output_type": "stream",
          "text": [
            "F1 score (macro): 0.47615386024597\n"
          ]
        }
      ],
      "source": [
        "from gensim.models import Word2Vec\n",
        "from sklearn.ensemble import RandomForestClassifier\n",
        "from sklearn.metrics import f1_score\n",
        "\n",
        "# Train the Word2Vec model using the best parameter values\n",
        "word2vec_model = Word2Vec(sentences=train_fold,\n",
        "                          vector_size=best_vector_length,\n",
        "                          min_count=5,\n",
        "                          window=best_context_size,\n",
        "                          sample=best_sampling_rate,\n",
        "                          sg=0,\n",
        "                          hs=0,\n",
        "                          negative=5)\n",
        "\n",
        "# Function to represent each sentence as the sum of Word2Vec vectors\n",
        "def sentence_to_vector(sentence):\n",
        "    vector_sum = np.zeros(best_vector_length)\n",
        "    for token in sentence:\n",
        "        if token in word2vec_model.wv:\n",
        "            vector_sum += word2vec_model.wv[token]\n",
        "    return vector_sum\n",
        "\n",
        "# Prepare the training data for the classifier\n",
        "X_train = [sentence_to_vector(sentence) for sentence in train_fold]\n",
        "y_train = train_data['sentiment'].tolist()\n",
        "\n",
        "# Handle OOV tokens with zero vectors\n",
        "X_train = [vector if np.any(vector) else np.zeros(best_vector_length) for vector in X_train]\n",
        "\n",
        "# Train a random forest classifier with the optimal depth of 15\n",
        "clf = RandomForestClassifier(n_estimators=100, max_depth=15, random_state=42)\n",
        "clf.fit(X_train, y_train)\n",
        "\n",
        "# Prepare the test data for prediction\n",
        "X_test = [sentence_to_vector(sentence) for sentence in test_corpus]\n",
        "\n",
        "# Handle OOV tokens with zero vectors in the test data\n",
        "X_test = [vector if np.any(vector) else np.zeros(best_vector_length) for vector in X_test]\n",
        "\n",
        "# Make predictions on the test data\n",
        "y_pred = clf.predict(X_test)\n",
        "\n",
        "# Calculate the F1 score (macro) for the classifier\n",
        "f1_macro = f1_score(y_test, y_pred, average='macro')\n",
        "print(\"F1 score (macro):\", f1_macro)\n"
      ]
    },
    {
      "cell_type": "code",
      "execution_count": null,
      "metadata": {
        "id": "7Pr786pk7UzT"
      },
      "outputs": [],
      "source": [
        "#check similar words to test\n",
        "model.wv.most_similar(positive=['horrendous'], topn=3)"
      ]
    },
    {
      "cell_type": "markdown",
      "metadata": {
        "id": "gRFtgfTErWL2"
      },
      "source": [
        "### Use pre-trained embeddings"
      ]
    },
    {
      "cell_type": "code",
      "execution_count": null,
      "metadata": {
        "id": "sl0wpbwR7dT9"
      },
      "outputs": [],
      "source": []
    }
  ],
  "metadata": {
    "accelerator": "GPU",
    "colab": {
      "gpuType": "T4",
      "provenance": []
    },
    "kernelspec": {
      "display_name": "Python 3 (ipykernel)",
      "language": "python",
      "name": "python3"
    },
    "language_info": {
      "codemirror_mode": {
        "name": "ipython",
        "version": 3
      },
      "file_extension": ".py",
      "mimetype": "text/x-python",
      "name": "python",
      "nbconvert_exporter": "python",
      "pygments_lexer": "ipython3",
      "version": "3.11.3"
    },
    "widgets": {
      "application/vnd.jupyter.widget-state+json": {
        "0004169979534ba6866cdc5bd51a2838": {
          "model_module": "@jupyter-widgets/controls",
          "model_module_version": "1.5.0",
          "model_name": "HTMLModel",
          "state": {
            "_dom_classes": [],
            "_model_module": "@jupyter-widgets/controls",
            "_model_module_version": "1.5.0",
            "_model_name": "HTMLModel",
            "_view_count": null,
            "_view_module": "@jupyter-widgets/controls",
            "_view_module_version": "1.5.0",
            "_view_name": "HTMLView",
            "description": "",
            "description_tooltip": null,
            "layout": "IPY_MODEL_55312c449f1840f295d52800c956e832",
            "placeholder": "​",
            "style": "IPY_MODEL_edb3c6d32d0a43ac89558e779145201f",
            "value": "Downloading readme: 100%"
          }
        },
        "011232d5bde84c109a9a88d2df729973": {
          "model_module": "@jupyter-widgets/base",
          "model_module_version": "1.2.0",
          "model_name": "LayoutModel",
          "state": {
            "_model_module": "@jupyter-widgets/base",
            "_model_module_version": "1.2.0",
            "_model_name": "LayoutModel",
            "_view_count": null,
            "_view_module": "@jupyter-widgets/base",
            "_view_module_version": "1.2.0",
            "_view_name": "LayoutView",
            "align_content": null,
            "align_items": null,
            "align_self": null,
            "border": null,
            "bottom": null,
            "display": null,
            "flex": null,
            "flex_flow": null,
            "grid_area": null,
            "grid_auto_columns": null,
            "grid_auto_flow": null,
            "grid_auto_rows": null,
            "grid_column": null,
            "grid_gap": null,
            "grid_row": null,
            "grid_template_areas": null,
            "grid_template_columns": null,
            "grid_template_rows": null,
            "height": null,
            "justify_content": null,
            "justify_items": null,
            "left": null,
            "margin": null,
            "max_height": null,
            "max_width": null,
            "min_height": null,
            "min_width": null,
            "object_fit": null,
            "object_position": null,
            "order": null,
            "overflow": null,
            "overflow_x": null,
            "overflow_y": null,
            "padding": null,
            "right": null,
            "top": null,
            "visibility": null,
            "width": null
          }
        },
        "01b71fc490614a9d83a397cad96c0a54": {
          "model_module": "@jupyter-widgets/controls",
          "model_module_version": "1.5.0",
          "model_name": "FloatProgressModel",
          "state": {
            "_dom_classes": [],
            "_model_module": "@jupyter-widgets/controls",
            "_model_module_version": "1.5.0",
            "_model_name": "FloatProgressModel",
            "_view_count": null,
            "_view_module": "@jupyter-widgets/controls",
            "_view_module_version": "1.5.0",
            "_view_name": "ProgressView",
            "bar_style": "success",
            "description": "",
            "description_tooltip": null,
            "layout": "IPY_MODEL_11499a13dbd049c7b43f3eef47383aa3",
            "max": 681890,
            "min": 0,
            "orientation": "horizontal",
            "style": "IPY_MODEL_b706b65bf44547e183ad8147efaad25f",
            "value": 681890
          }
        },
        "06defde212594ae0b3521de3708652fc": {
          "model_module": "@jupyter-widgets/controls",
          "model_module_version": "1.5.0",
          "model_name": "HTMLModel",
          "state": {
            "_dom_classes": [],
            "_model_module": "@jupyter-widgets/controls",
            "_model_module_version": "1.5.0",
            "_model_name": "HTMLModel",
            "_view_count": null,
            "_view_module": "@jupyter-widgets/controls",
            "_view_module_version": "1.5.0",
            "_view_name": "HTMLView",
            "description": "",
            "description_tooltip": null,
            "layout": "IPY_MODEL_427a57c77db7420b896a4b70519a7513",
            "placeholder": "​",
            "style": "IPY_MODEL_52c0ec2bbfb5445b824dce46ca848fdd",
            "value": "Downloading data: 100%"
          }
        },
        "0dbffb81d8f74822b8f2bb589a708525": {
          "model_module": "@jupyter-widgets/controls",
          "model_module_version": "1.5.0",
          "model_name": "DescriptionStyleModel",
          "state": {
            "_model_module": "@jupyter-widgets/controls",
            "_model_module_version": "1.5.0",
            "_model_name": "DescriptionStyleModel",
            "_view_count": null,
            "_view_module": "@jupyter-widgets/base",
            "_view_module_version": "1.2.0",
            "_view_name": "StyleView",
            "description_width": ""
          }
        },
        "11499a13dbd049c7b43f3eef47383aa3": {
          "model_module": "@jupyter-widgets/base",
          "model_module_version": "1.2.0",
          "model_name": "LayoutModel",
          "state": {
            "_model_module": "@jupyter-widgets/base",
            "_model_module_version": "1.2.0",
            "_model_name": "LayoutModel",
            "_view_count": null,
            "_view_module": "@jupyter-widgets/base",
            "_view_module_version": "1.2.0",
            "_view_name": "LayoutView",
            "align_content": null,
            "align_items": null,
            "align_self": null,
            "border": null,
            "bottom": null,
            "display": null,
            "flex": null,
            "flex_flow": null,
            "grid_area": null,
            "grid_auto_columns": null,
            "grid_auto_flow": null,
            "grid_auto_rows": null,
            "grid_column": null,
            "grid_gap": null,
            "grid_row": null,
            "grid_template_areas": null,
            "grid_template_columns": null,
            "grid_template_rows": null,
            "height": null,
            "justify_content": null,
            "justify_items": null,
            "left": null,
            "margin": null,
            "max_height": null,
            "max_width": null,
            "min_height": null,
            "min_width": null,
            "object_fit": null,
            "object_position": null,
            "order": null,
            "overflow": null,
            "overflow_x": null,
            "overflow_y": null,
            "padding": null,
            "right": null,
            "top": null,
            "visibility": null,
            "width": null
          }
        },
        "11e134b180c24b5c94756ec040be15f6": {
          "model_module": "@jupyter-widgets/controls",
          "model_module_version": "1.5.0",
          "model_name": "FloatProgressModel",
          "state": {
            "_dom_classes": [],
            "_model_module": "@jupyter-widgets/controls",
            "_model_module_version": "1.5.0",
            "_model_name": "FloatProgressModel",
            "_view_count": null,
            "_view_module": "@jupyter-widgets/controls",
            "_view_module_version": "1.5.0",
            "_view_name": "ProgressView",
            "bar_style": "success",
            "description": "",
            "description_tooltip": null,
            "layout": "IPY_MODEL_e3176a28263f4c5fb61916663a2736e6",
            "max": 1,
            "min": 0,
            "orientation": "horizontal",
            "style": "IPY_MODEL_c0d23a44412f4950a84ebff02cd56dae",
            "value": 1
          }
        },
        "161be74c23fd483aa2394bd945fbb915": {
          "model_module": "@jupyter-widgets/base",
          "model_module_version": "1.2.0",
          "model_name": "LayoutModel",
          "state": {
            "_model_module": "@jupyter-widgets/base",
            "_model_module_version": "1.2.0",
            "_model_name": "LayoutModel",
            "_view_count": null,
            "_view_module": "@jupyter-widgets/base",
            "_view_module_version": "1.2.0",
            "_view_name": "LayoutView",
            "align_content": null,
            "align_items": null,
            "align_self": null,
            "border": null,
            "bottom": null,
            "display": null,
            "flex": null,
            "flex_flow": null,
            "grid_area": null,
            "grid_auto_columns": null,
            "grid_auto_flow": null,
            "grid_auto_rows": null,
            "grid_column": null,
            "grid_gap": null,
            "grid_row": null,
            "grid_template_areas": null,
            "grid_template_columns": null,
            "grid_template_rows": null,
            "height": null,
            "justify_content": null,
            "justify_items": null,
            "left": null,
            "margin": null,
            "max_height": null,
            "max_width": null,
            "min_height": null,
            "min_width": null,
            "object_fit": null,
            "object_position": null,
            "order": null,
            "overflow": null,
            "overflow_x": null,
            "overflow_y": null,
            "padding": null,
            "right": null,
            "top": null,
            "visibility": null,
            "width": null
          }
        },
        "17a9a67f875e471ab52bed0211d458da": {
          "model_module": "@jupyter-widgets/controls",
          "model_module_version": "1.5.0",
          "model_name": "HTMLModel",
          "state": {
            "_dom_classes": [],
            "_model_module": "@jupyter-widgets/controls",
            "_model_module_version": "1.5.0",
            "_model_name": "HTMLModel",
            "_view_count": null,
            "_view_module": "@jupyter-widgets/controls",
            "_view_module_version": "1.5.0",
            "_view_name": "HTMLView",
            "description": "",
            "description_tooltip": null,
            "layout": "IPY_MODEL_c541c9d2a66442f899ba111ece7efbe7",
            "placeholder": "​",
            "style": "IPY_MODEL_66c6bdb46f924277b3fbe13763f9311d",
            "value": " 13.7k/13.7k [00:00&lt;00:00, 949kB/s]"
          }
        },
        "1b0e2491c74046ef894bae840134dc89": {
          "model_module": "@jupyter-widgets/controls",
          "model_module_version": "1.5.0",
          "model_name": "HBoxModel",
          "state": {
            "_dom_classes": [],
            "_model_module": "@jupyter-widgets/controls",
            "_model_module_version": "1.5.0",
            "_model_name": "HBoxModel",
            "_view_count": null,
            "_view_module": "@jupyter-widgets/controls",
            "_view_module_version": "1.5.0",
            "_view_name": "HBoxView",
            "box_style": "",
            "children": [
              "IPY_MODEL_0004169979534ba6866cdc5bd51a2838",
              "IPY_MODEL_bee18892309245d29a8b6627198ce9a3",
              "IPY_MODEL_d95f957157da4012aabdca0005ec6e03"
            ],
            "layout": "IPY_MODEL_b9c3f58af829433fa098639bc3032359"
          }
        },
        "2324d446b91842958e5e4a426b1c58b6": {
          "model_module": "@jupyter-widgets/base",
          "model_module_version": "1.2.0",
          "model_name": "LayoutModel",
          "state": {
            "_model_module": "@jupyter-widgets/base",
            "_model_module_version": "1.2.0",
            "_model_name": "LayoutModel",
            "_view_count": null,
            "_view_module": "@jupyter-widgets/base",
            "_view_module_version": "1.2.0",
            "_view_name": "LayoutView",
            "align_content": null,
            "align_items": null,
            "align_self": null,
            "border": null,
            "bottom": null,
            "display": null,
            "flex": null,
            "flex_flow": null,
            "grid_area": null,
            "grid_auto_columns": null,
            "grid_auto_flow": null,
            "grid_auto_rows": null,
            "grid_column": null,
            "grid_gap": null,
            "grid_row": null,
            "grid_template_areas": null,
            "grid_template_columns": null,
            "grid_template_rows": null,
            "height": null,
            "justify_content": null,
            "justify_items": null,
            "left": null,
            "margin": null,
            "max_height": null,
            "max_width": null,
            "min_height": null,
            "min_width": null,
            "object_fit": null,
            "object_position": null,
            "order": null,
            "overflow": null,
            "overflow_x": null,
            "overflow_y": null,
            "padding": null,
            "right": null,
            "top": null,
            "visibility": "hidden",
            "width": null
          }
        },
        "27f847b1ddf746649174e0a1701bfdb9": {
          "model_module": "@jupyter-widgets/controls",
          "model_module_version": "1.5.0",
          "model_name": "HTMLModel",
          "state": {
            "_dom_classes": [],
            "_model_module": "@jupyter-widgets/controls",
            "_model_module_version": "1.5.0",
            "_model_name": "HTMLModel",
            "_view_count": null,
            "_view_module": "@jupyter-widgets/controls",
            "_view_module_version": "1.5.0",
            "_view_name": "HTMLView",
            "description": "",
            "description_tooltip": null,
            "layout": "IPY_MODEL_8003cd41b4c34a01b7e1314486cab1da",
            "placeholder": "​",
            "style": "IPY_MODEL_34aabff91dbb4056bffa0577efeaad31",
            "value": "100%"
          }
        },
        "2df99ab27de64a8980ade153bf136aa0": {
          "model_module": "@jupyter-widgets/controls",
          "model_module_version": "1.5.0",
          "model_name": "HBoxModel",
          "state": {
            "_dom_classes": [],
            "_model_module": "@jupyter-widgets/controls",
            "_model_module_version": "1.5.0",
            "_model_name": "HBoxModel",
            "_view_count": null,
            "_view_module": "@jupyter-widgets/controls",
            "_view_module_version": "1.5.0",
            "_view_name": "HBoxView",
            "box_style": "",
            "children": [
              "IPY_MODEL_27f847b1ddf746649174e0a1701bfdb9",
              "IPY_MODEL_11e134b180c24b5c94756ec040be15f6",
              "IPY_MODEL_8ff98e9ba43344c0aafe8d5ec612081b"
            ],
            "layout": "IPY_MODEL_4259e444f70845d8aebc42299bc63f98"
          }
        },
        "34aabff91dbb4056bffa0577efeaad31": {
          "model_module": "@jupyter-widgets/controls",
          "model_module_version": "1.5.0",
          "model_name": "DescriptionStyleModel",
          "state": {
            "_model_module": "@jupyter-widgets/controls",
            "_model_module_version": "1.5.0",
            "_model_name": "DescriptionStyleModel",
            "_view_count": null,
            "_view_module": "@jupyter-widgets/base",
            "_view_module_version": "1.2.0",
            "_view_name": "StyleView",
            "description_width": ""
          }
        },
        "3b03644520d1468b894b8f5b3c14790d": {
          "model_module": "@jupyter-widgets/controls",
          "model_module_version": "1.5.0",
          "model_name": "ProgressStyleModel",
          "state": {
            "_model_module": "@jupyter-widgets/controls",
            "_model_module_version": "1.5.0",
            "_model_name": "ProgressStyleModel",
            "_view_count": null,
            "_view_module": "@jupyter-widgets/base",
            "_view_module_version": "1.2.0",
            "_view_name": "StyleView",
            "bar_color": null,
            "description_width": ""
          }
        },
        "3bdfd9a5d4e54f248d0cd82d3a606810": {
          "model_module": "@jupyter-widgets/controls",
          "model_module_version": "1.5.0",
          "model_name": "ProgressStyleModel",
          "state": {
            "_model_module": "@jupyter-widgets/controls",
            "_model_module_version": "1.5.0",
            "_model_name": "ProgressStyleModel",
            "_view_count": null,
            "_view_module": "@jupyter-widgets/base",
            "_view_module_version": "1.2.0",
            "_view_name": "StyleView",
            "bar_color": null,
            "description_width": ""
          }
        },
        "3c88d53e92804d9d83f3020f484c485b": {
          "model_module": "@jupyter-widgets/controls",
          "model_module_version": "1.5.0",
          "model_name": "HTMLModel",
          "state": {
            "_dom_classes": [],
            "_model_module": "@jupyter-widgets/controls",
            "_model_module_version": "1.5.0",
            "_model_name": "HTMLModel",
            "_view_count": null,
            "_view_module": "@jupyter-widgets/controls",
            "_view_module_version": "1.5.0",
            "_view_name": "HTMLView",
            "description": "",
            "description_tooltip": null,
            "layout": "IPY_MODEL_f40bf831875748258029f998cdc4085f",
            "placeholder": "​",
            "style": "IPY_MODEL_a467b4bda44141fbad61a448d9362194",
            "value": "Downloading metadata: 100%"
          }
        },
        "4259e444f70845d8aebc42299bc63f98": {
          "model_module": "@jupyter-widgets/base",
          "model_module_version": "1.2.0",
          "model_name": "LayoutModel",
          "state": {
            "_model_module": "@jupyter-widgets/base",
            "_model_module_version": "1.2.0",
            "_model_name": "LayoutModel",
            "_view_count": null,
            "_view_module": "@jupyter-widgets/base",
            "_view_module_version": "1.2.0",
            "_view_name": "LayoutView",
            "align_content": null,
            "align_items": null,
            "align_self": null,
            "border": null,
            "bottom": null,
            "display": null,
            "flex": null,
            "flex_flow": null,
            "grid_area": null,
            "grid_auto_columns": null,
            "grid_auto_flow": null,
            "grid_auto_rows": null,
            "grid_column": null,
            "grid_gap": null,
            "grid_row": null,
            "grid_template_areas": null,
            "grid_template_columns": null,
            "grid_template_rows": null,
            "height": null,
            "justify_content": null,
            "justify_items": null,
            "left": null,
            "margin": null,
            "max_height": null,
            "max_width": null,
            "min_height": null,
            "min_width": null,
            "object_fit": null,
            "object_position": null,
            "order": null,
            "overflow": null,
            "overflow_x": null,
            "overflow_y": null,
            "padding": null,
            "right": null,
            "top": null,
            "visibility": null,
            "width": null
          }
        },
        "427a57c77db7420b896a4b70519a7513": {
          "model_module": "@jupyter-widgets/base",
          "model_module_version": "1.2.0",
          "model_name": "LayoutModel",
          "state": {
            "_model_module": "@jupyter-widgets/base",
            "_model_module_version": "1.2.0",
            "_model_name": "LayoutModel",
            "_view_count": null,
            "_view_module": "@jupyter-widgets/base",
            "_view_module_version": "1.2.0",
            "_view_name": "LayoutView",
            "align_content": null,
            "align_items": null,
            "align_self": null,
            "border": null,
            "bottom": null,
            "display": null,
            "flex": null,
            "flex_flow": null,
            "grid_area": null,
            "grid_auto_columns": null,
            "grid_auto_flow": null,
            "grid_auto_rows": null,
            "grid_column": null,
            "grid_gap": null,
            "grid_row": null,
            "grid_template_areas": null,
            "grid_template_columns": null,
            "grid_template_rows": null,
            "height": null,
            "justify_content": null,
            "justify_items": null,
            "left": null,
            "margin": null,
            "max_height": null,
            "max_width": null,
            "min_height": null,
            "min_width": null,
            "object_fit": null,
            "object_position": null,
            "order": null,
            "overflow": null,
            "overflow_x": null,
            "overflow_y": null,
            "padding": null,
            "right": null,
            "top": null,
            "visibility": null,
            "width": null
          }
        },
        "4670d369c63b486fadfaa5aa13b6cf0c": {
          "model_module": "@jupyter-widgets/controls",
          "model_module_version": "1.5.0",
          "model_name": "HTMLModel",
          "state": {
            "_dom_classes": [],
            "_model_module": "@jupyter-widgets/controls",
            "_model_module_version": "1.5.0",
            "_model_name": "HTMLModel",
            "_view_count": null,
            "_view_module": "@jupyter-widgets/controls",
            "_view_module_version": "1.5.0",
            "_view_name": "HTMLView",
            "description": "",
            "description_tooltip": null,
            "layout": "IPY_MODEL_e31f51ac8d5b43c68a5e98742be80a8e",
            "placeholder": "​",
            "style": "IPY_MODEL_558f6d4d44f04ff7830a8a3f4e701a5e",
            "value": " 682k/682k [00:00&lt;00:00, 11.9MB/s]"
          }
        },
        "491c6643f3ba46c8857d8fa442bc933b": {
          "model_module": "@jupyter-widgets/controls",
          "model_module_version": "1.5.0",
          "model_name": "HTMLModel",
          "state": {
            "_dom_classes": [],
            "_model_module": "@jupyter-widgets/controls",
            "_model_module_version": "1.5.0",
            "_model_name": "HTMLModel",
            "_view_count": null,
            "_view_module": "@jupyter-widgets/controls",
            "_view_module_version": "1.5.0",
            "_view_name": "HTMLView",
            "description": "",
            "description_tooltip": null,
            "layout": "IPY_MODEL_c225ec73f22c4717972b33b57037a053",
            "placeholder": "​",
            "style": "IPY_MODEL_0dbffb81d8f74822b8f2bb589a708525",
            "value": " 2053/3453 [00:00&lt;00:00, 7431.21 examples/s]"
          }
        },
        "49a35c74651747b5aaa8eac8f882df0d": {
          "model_module": "@jupyter-widgets/controls",
          "model_module_version": "1.5.0",
          "model_name": "DescriptionStyleModel",
          "state": {
            "_model_module": "@jupyter-widgets/controls",
            "_model_module_version": "1.5.0",
            "_model_name": "DescriptionStyleModel",
            "_view_count": null,
            "_view_module": "@jupyter-widgets/base",
            "_view_module_version": "1.2.0",
            "_view_name": "StyleView",
            "description_width": ""
          }
        },
        "4b3741da70954f62b8effac355897645": {
          "model_module": "@jupyter-widgets/base",
          "model_module_version": "1.2.0",
          "model_name": "LayoutModel",
          "state": {
            "_model_module": "@jupyter-widgets/base",
            "_model_module_version": "1.2.0",
            "_model_name": "LayoutModel",
            "_view_count": null,
            "_view_module": "@jupyter-widgets/base",
            "_view_module_version": "1.2.0",
            "_view_name": "LayoutView",
            "align_content": null,
            "align_items": null,
            "align_self": null,
            "border": null,
            "bottom": null,
            "display": null,
            "flex": null,
            "flex_flow": null,
            "grid_area": null,
            "grid_auto_columns": null,
            "grid_auto_flow": null,
            "grid_auto_rows": null,
            "grid_column": null,
            "grid_gap": null,
            "grid_row": null,
            "grid_template_areas": null,
            "grid_template_columns": null,
            "grid_template_rows": null,
            "height": null,
            "justify_content": null,
            "justify_items": null,
            "left": null,
            "margin": null,
            "max_height": null,
            "max_width": null,
            "min_height": null,
            "min_width": null,
            "object_fit": null,
            "object_position": null,
            "order": null,
            "overflow": null,
            "overflow_x": null,
            "overflow_y": null,
            "padding": null,
            "right": null,
            "top": null,
            "visibility": null,
            "width": null
          }
        },
        "50ac01f752bf446498116913be3f74d5": {
          "model_module": "@jupyter-widgets/controls",
          "model_module_version": "1.5.0",
          "model_name": "HBoxModel",
          "state": {
            "_dom_classes": [],
            "_model_module": "@jupyter-widgets/controls",
            "_model_module_version": "1.5.0",
            "_model_name": "HBoxModel",
            "_view_count": null,
            "_view_module": "@jupyter-widgets/controls",
            "_view_module_version": "1.5.0",
            "_view_name": "HBoxView",
            "box_style": "",
            "children": [
              "IPY_MODEL_3c88d53e92804d9d83f3020f484c485b",
              "IPY_MODEL_5ce3b4b75af942298ef77f3f7ab77bf7",
              "IPY_MODEL_17a9a67f875e471ab52bed0211d458da"
            ],
            "layout": "IPY_MODEL_7b3db3a91222456eba62647a6daea0b8"
          }
        },
        "52c0ec2bbfb5445b824dce46ca848fdd": {
          "model_module": "@jupyter-widgets/controls",
          "model_module_version": "1.5.0",
          "model_name": "DescriptionStyleModel",
          "state": {
            "_model_module": "@jupyter-widgets/controls",
            "_model_module_version": "1.5.0",
            "_model_name": "DescriptionStyleModel",
            "_view_count": null,
            "_view_module": "@jupyter-widgets/base",
            "_view_module_version": "1.2.0",
            "_view_name": "StyleView",
            "description_width": ""
          }
        },
        "55312c449f1840f295d52800c956e832": {
          "model_module": "@jupyter-widgets/base",
          "model_module_version": "1.2.0",
          "model_name": "LayoutModel",
          "state": {
            "_model_module": "@jupyter-widgets/base",
            "_model_module_version": "1.2.0",
            "_model_name": "LayoutModel",
            "_view_count": null,
            "_view_module": "@jupyter-widgets/base",
            "_view_module_version": "1.2.0",
            "_view_name": "LayoutView",
            "align_content": null,
            "align_items": null,
            "align_self": null,
            "border": null,
            "bottom": null,
            "display": null,
            "flex": null,
            "flex_flow": null,
            "grid_area": null,
            "grid_auto_columns": null,
            "grid_auto_flow": null,
            "grid_auto_rows": null,
            "grid_column": null,
            "grid_gap": null,
            "grid_row": null,
            "grid_template_areas": null,
            "grid_template_columns": null,
            "grid_template_rows": null,
            "height": null,
            "justify_content": null,
            "justify_items": null,
            "left": null,
            "margin": null,
            "max_height": null,
            "max_width": null,
            "min_height": null,
            "min_width": null,
            "object_fit": null,
            "object_position": null,
            "order": null,
            "overflow": null,
            "overflow_x": null,
            "overflow_y": null,
            "padding": null,
            "right": null,
            "top": null,
            "visibility": null,
            "width": null
          }
        },
        "558f6d4d44f04ff7830a8a3f4e701a5e": {
          "model_module": "@jupyter-widgets/controls",
          "model_module_version": "1.5.0",
          "model_name": "DescriptionStyleModel",
          "state": {
            "_model_module": "@jupyter-widgets/controls",
            "_model_module_version": "1.5.0",
            "_model_name": "DescriptionStyleModel",
            "_view_count": null,
            "_view_module": "@jupyter-widgets/base",
            "_view_module_version": "1.2.0",
            "_view_name": "StyleView",
            "description_width": ""
          }
        },
        "56c461675f2e484b9f2300cca424f9f4": {
          "model_module": "@jupyter-widgets/base",
          "model_module_version": "1.2.0",
          "model_name": "LayoutModel",
          "state": {
            "_model_module": "@jupyter-widgets/base",
            "_model_module_version": "1.2.0",
            "_model_name": "LayoutModel",
            "_view_count": null,
            "_view_module": "@jupyter-widgets/base",
            "_view_module_version": "1.2.0",
            "_view_name": "LayoutView",
            "align_content": null,
            "align_items": null,
            "align_self": null,
            "border": null,
            "bottom": null,
            "display": null,
            "flex": null,
            "flex_flow": null,
            "grid_area": null,
            "grid_auto_columns": null,
            "grid_auto_flow": null,
            "grid_auto_rows": null,
            "grid_column": null,
            "grid_gap": null,
            "grid_row": null,
            "grid_template_areas": null,
            "grid_template_columns": null,
            "grid_template_rows": null,
            "height": null,
            "justify_content": null,
            "justify_items": null,
            "left": null,
            "margin": null,
            "max_height": null,
            "max_width": null,
            "min_height": null,
            "min_width": null,
            "object_fit": null,
            "object_position": null,
            "order": null,
            "overflow": null,
            "overflow_x": null,
            "overflow_y": null,
            "padding": null,
            "right": null,
            "top": null,
            "visibility": null,
            "width": null
          }
        },
        "5ce3b4b75af942298ef77f3f7ab77bf7": {
          "model_module": "@jupyter-widgets/controls",
          "model_module_version": "1.5.0",
          "model_name": "FloatProgressModel",
          "state": {
            "_dom_classes": [],
            "_model_module": "@jupyter-widgets/controls",
            "_model_module_version": "1.5.0",
            "_model_name": "FloatProgressModel",
            "_view_count": null,
            "_view_module": "@jupyter-widgets/controls",
            "_view_module_version": "1.5.0",
            "_view_name": "ProgressView",
            "bar_style": "success",
            "description": "",
            "description_tooltip": null,
            "layout": "IPY_MODEL_dc788ef786d5462ea0b1d22f08f00f33",
            "max": 13677,
            "min": 0,
            "orientation": "horizontal",
            "style": "IPY_MODEL_3b03644520d1468b894b8f5b3c14790d",
            "value": 13677
          }
        },
        "62fad522e25c45639f9ba46a37d2c08c": {
          "model_module": "@jupyter-widgets/base",
          "model_module_version": "1.2.0",
          "model_name": "LayoutModel",
          "state": {
            "_model_module": "@jupyter-widgets/base",
            "_model_module_version": "1.2.0",
            "_model_name": "LayoutModel",
            "_view_count": null,
            "_view_module": "@jupyter-widgets/base",
            "_view_module_version": "1.2.0",
            "_view_name": "LayoutView",
            "align_content": null,
            "align_items": null,
            "align_self": null,
            "border": null,
            "bottom": null,
            "display": null,
            "flex": null,
            "flex_flow": null,
            "grid_area": null,
            "grid_auto_columns": null,
            "grid_auto_flow": null,
            "grid_auto_rows": null,
            "grid_column": null,
            "grid_gap": null,
            "grid_row": null,
            "grid_template_areas": null,
            "grid_template_columns": null,
            "grid_template_rows": null,
            "height": null,
            "justify_content": null,
            "justify_items": null,
            "left": null,
            "margin": null,
            "max_height": null,
            "max_width": null,
            "min_height": null,
            "min_width": null,
            "object_fit": null,
            "object_position": null,
            "order": null,
            "overflow": null,
            "overflow_x": null,
            "overflow_y": null,
            "padding": null,
            "right": null,
            "top": null,
            "visibility": null,
            "width": null
          }
        },
        "63d1226bbaa045b2b35fd81276d4f5a4": {
          "model_module": "@jupyter-widgets/controls",
          "model_module_version": "1.5.0",
          "model_name": "DescriptionStyleModel",
          "state": {
            "_model_module": "@jupyter-widgets/controls",
            "_model_module_version": "1.5.0",
            "_model_name": "DescriptionStyleModel",
            "_view_count": null,
            "_view_module": "@jupyter-widgets/base",
            "_view_module_version": "1.2.0",
            "_view_name": "StyleView",
            "description_width": ""
          }
        },
        "66c6bdb46f924277b3fbe13763f9311d": {
          "model_module": "@jupyter-widgets/controls",
          "model_module_version": "1.5.0",
          "model_name": "DescriptionStyleModel",
          "state": {
            "_model_module": "@jupyter-widgets/controls",
            "_model_module_version": "1.5.0",
            "_model_name": "DescriptionStyleModel",
            "_view_count": null,
            "_view_module": "@jupyter-widgets/base",
            "_view_module_version": "1.2.0",
            "_view_name": "StyleView",
            "description_width": ""
          }
        },
        "694bb6f3afbf435d967fdf262c5eb79d": {
          "model_module": "@jupyter-widgets/controls",
          "model_module_version": "1.5.0",
          "model_name": "HTMLModel",
          "state": {
            "_dom_classes": [],
            "_model_module": "@jupyter-widgets/controls",
            "_model_module_version": "1.5.0",
            "_model_name": "HTMLModel",
            "_view_count": null,
            "_view_module": "@jupyter-widgets/controls",
            "_view_module_version": "1.5.0",
            "_view_name": "HTMLView",
            "description": "",
            "description_tooltip": null,
            "layout": "IPY_MODEL_f260e7c2eb6c4700a315acc5d7ed88cf",
            "placeholder": "​",
            "style": "IPY_MODEL_cd337499be7d49e9bddaec0b2729ed12",
            "value": "Generating train split:  59%"
          }
        },
        "7b06a3e96ac24ba398b8c99a7083b542": {
          "model_module": "@jupyter-widgets/controls",
          "model_module_version": "1.5.0",
          "model_name": "FloatProgressModel",
          "state": {
            "_dom_classes": [],
            "_model_module": "@jupyter-widgets/controls",
            "_model_module_version": "1.5.0",
            "_model_name": "FloatProgressModel",
            "_view_count": null,
            "_view_module": "@jupyter-widgets/controls",
            "_view_module_version": "1.5.0",
            "_view_name": "ProgressView",
            "bar_style": "success",
            "description": "",
            "description_tooltip": null,
            "layout": "IPY_MODEL_b1df9100af874129b1ffce73f2ee0db5",
            "max": 6036,
            "min": 0,
            "orientation": "horizontal",
            "style": "IPY_MODEL_3bdfd9a5d4e54f248d0cd82d3a606810",
            "value": 6036
          }
        },
        "7b3db3a91222456eba62647a6daea0b8": {
          "model_module": "@jupyter-widgets/base",
          "model_module_version": "1.2.0",
          "model_name": "LayoutModel",
          "state": {
            "_model_module": "@jupyter-widgets/base",
            "_model_module_version": "1.2.0",
            "_model_name": "LayoutModel",
            "_view_count": null,
            "_view_module": "@jupyter-widgets/base",
            "_view_module_version": "1.2.0",
            "_view_name": "LayoutView",
            "align_content": null,
            "align_items": null,
            "align_self": null,
            "border": null,
            "bottom": null,
            "display": null,
            "flex": null,
            "flex_flow": null,
            "grid_area": null,
            "grid_auto_columns": null,
            "grid_auto_flow": null,
            "grid_auto_rows": null,
            "grid_column": null,
            "grid_gap": null,
            "grid_row": null,
            "grid_template_areas": null,
            "grid_template_columns": null,
            "grid_template_rows": null,
            "height": null,
            "justify_content": null,
            "justify_items": null,
            "left": null,
            "margin": null,
            "max_height": null,
            "max_width": null,
            "min_height": null,
            "min_width": null,
            "object_fit": null,
            "object_position": null,
            "order": null,
            "overflow": null,
            "overflow_x": null,
            "overflow_y": null,
            "padding": null,
            "right": null,
            "top": null,
            "visibility": null,
            "width": null
          }
        },
        "8003cd41b4c34a01b7e1314486cab1da": {
          "model_module": "@jupyter-widgets/base",
          "model_module_version": "1.2.0",
          "model_name": "LayoutModel",
          "state": {
            "_model_module": "@jupyter-widgets/base",
            "_model_module_version": "1.2.0",
            "_model_name": "LayoutModel",
            "_view_count": null,
            "_view_module": "@jupyter-widgets/base",
            "_view_module_version": "1.2.0",
            "_view_name": "LayoutView",
            "align_content": null,
            "align_items": null,
            "align_self": null,
            "border": null,
            "bottom": null,
            "display": null,
            "flex": null,
            "flex_flow": null,
            "grid_area": null,
            "grid_auto_columns": null,
            "grid_auto_flow": null,
            "grid_auto_rows": null,
            "grid_column": null,
            "grid_gap": null,
            "grid_row": null,
            "grid_template_areas": null,
            "grid_template_columns": null,
            "grid_template_rows": null,
            "height": null,
            "justify_content": null,
            "justify_items": null,
            "left": null,
            "margin": null,
            "max_height": null,
            "max_width": null,
            "min_height": null,
            "min_width": null,
            "object_fit": null,
            "object_position": null,
            "order": null,
            "overflow": null,
            "overflow_x": null,
            "overflow_y": null,
            "padding": null,
            "right": null,
            "top": null,
            "visibility": null,
            "width": null
          }
        },
        "8013396cebc9402da72335d0a607d20a": {
          "model_module": "@jupyter-widgets/controls",
          "model_module_version": "1.5.0",
          "model_name": "ProgressStyleModel",
          "state": {
            "_model_module": "@jupyter-widgets/controls",
            "_model_module_version": "1.5.0",
            "_model_name": "ProgressStyleModel",
            "_view_count": null,
            "_view_module": "@jupyter-widgets/base",
            "_view_module_version": "1.2.0",
            "_view_name": "StyleView",
            "bar_color": null,
            "description_width": ""
          }
        },
        "8e60c02573114800b72873b4e2ada37c": {
          "model_module": "@jupyter-widgets/controls",
          "model_module_version": "1.5.0",
          "model_name": "HBoxModel",
          "state": {
            "_dom_classes": [],
            "_model_module": "@jupyter-widgets/controls",
            "_model_module_version": "1.5.0",
            "_model_name": "HBoxModel",
            "_view_count": null,
            "_view_module": "@jupyter-widgets/controls",
            "_view_module_version": "1.5.0",
            "_view_name": "HBoxView",
            "box_style": "",
            "children": [
              "IPY_MODEL_694bb6f3afbf435d967fdf262c5eb79d",
              "IPY_MODEL_edf8a02122b4473da73b5108f5ca474e",
              "IPY_MODEL_491c6643f3ba46c8857d8fa442bc933b"
            ],
            "layout": "IPY_MODEL_2324d446b91842958e5e4a426b1c58b6"
          }
        },
        "8ff98e9ba43344c0aafe8d5ec612081b": {
          "model_module": "@jupyter-widgets/controls",
          "model_module_version": "1.5.0",
          "model_name": "HTMLModel",
          "state": {
            "_dom_classes": [],
            "_model_module": "@jupyter-widgets/controls",
            "_model_module_version": "1.5.0",
            "_model_name": "HTMLModel",
            "_view_count": null,
            "_view_module": "@jupyter-widgets/controls",
            "_view_module_version": "1.5.0",
            "_view_name": "HTMLView",
            "description": "",
            "description_tooltip": null,
            "layout": "IPY_MODEL_f91426d9b5814f1aa179aa21798be269",
            "placeholder": "​",
            "style": "IPY_MODEL_dc6a45ff67b64207ba30929f30eb57d2",
            "value": " 1/1 [00:00&lt;00:00, 20.53it/s]"
          }
        },
        "a467b4bda44141fbad61a448d9362194": {
          "model_module": "@jupyter-widgets/controls",
          "model_module_version": "1.5.0",
          "model_name": "DescriptionStyleModel",
          "state": {
            "_model_module": "@jupyter-widgets/controls",
            "_model_module_version": "1.5.0",
            "_model_name": "DescriptionStyleModel",
            "_view_count": null,
            "_view_module": "@jupyter-widgets/base",
            "_view_module_version": "1.2.0",
            "_view_name": "StyleView",
            "description_width": ""
          }
        },
        "b1df9100af874129b1ffce73f2ee0db5": {
          "model_module": "@jupyter-widgets/base",
          "model_module_version": "1.2.0",
          "model_name": "LayoutModel",
          "state": {
            "_model_module": "@jupyter-widgets/base",
            "_model_module_version": "1.2.0",
            "_model_name": "LayoutModel",
            "_view_count": null,
            "_view_module": "@jupyter-widgets/base",
            "_view_module_version": "1.2.0",
            "_view_name": "LayoutView",
            "align_content": null,
            "align_items": null,
            "align_self": null,
            "border": null,
            "bottom": null,
            "display": null,
            "flex": null,
            "flex_flow": null,
            "grid_area": null,
            "grid_auto_columns": null,
            "grid_auto_flow": null,
            "grid_auto_rows": null,
            "grid_column": null,
            "grid_gap": null,
            "grid_row": null,
            "grid_template_areas": null,
            "grid_template_columns": null,
            "grid_template_rows": null,
            "height": null,
            "justify_content": null,
            "justify_items": null,
            "left": null,
            "margin": null,
            "max_height": null,
            "max_width": null,
            "min_height": null,
            "min_width": null,
            "object_fit": null,
            "object_position": null,
            "order": null,
            "overflow": null,
            "overflow_x": null,
            "overflow_y": null,
            "padding": null,
            "right": null,
            "top": null,
            "visibility": null,
            "width": null
          }
        },
        "b706b65bf44547e183ad8147efaad25f": {
          "model_module": "@jupyter-widgets/controls",
          "model_module_version": "1.5.0",
          "model_name": "ProgressStyleModel",
          "state": {
            "_model_module": "@jupyter-widgets/controls",
            "_model_module_version": "1.5.0",
            "_model_name": "ProgressStyleModel",
            "_view_count": null,
            "_view_module": "@jupyter-widgets/base",
            "_view_module_version": "1.2.0",
            "_view_name": "StyleView",
            "bar_color": null,
            "description_width": ""
          }
        },
        "b9c3f58af829433fa098639bc3032359": {
          "model_module": "@jupyter-widgets/base",
          "model_module_version": "1.2.0",
          "model_name": "LayoutModel",
          "state": {
            "_model_module": "@jupyter-widgets/base",
            "_model_module_version": "1.2.0",
            "_model_name": "LayoutModel",
            "_view_count": null,
            "_view_module": "@jupyter-widgets/base",
            "_view_module_version": "1.2.0",
            "_view_name": "LayoutView",
            "align_content": null,
            "align_items": null,
            "align_self": null,
            "border": null,
            "bottom": null,
            "display": null,
            "flex": null,
            "flex_flow": null,
            "grid_area": null,
            "grid_auto_columns": null,
            "grid_auto_flow": null,
            "grid_auto_rows": null,
            "grid_column": null,
            "grid_gap": null,
            "grid_row": null,
            "grid_template_areas": null,
            "grid_template_columns": null,
            "grid_template_rows": null,
            "height": null,
            "justify_content": null,
            "justify_items": null,
            "left": null,
            "margin": null,
            "max_height": null,
            "max_width": null,
            "min_height": null,
            "min_width": null,
            "object_fit": null,
            "object_position": null,
            "order": null,
            "overflow": null,
            "overflow_x": null,
            "overflow_y": null,
            "padding": null,
            "right": null,
            "top": null,
            "visibility": null,
            "width": null
          }
        },
        "b9e9a8a0f50a4f148e783f623829972b": {
          "model_module": "@jupyter-widgets/controls",
          "model_module_version": "1.5.0",
          "model_name": "HBoxModel",
          "state": {
            "_dom_classes": [],
            "_model_module": "@jupyter-widgets/controls",
            "_model_module_version": "1.5.0",
            "_model_name": "HBoxModel",
            "_view_count": null,
            "_view_module": "@jupyter-widgets/controls",
            "_view_module_version": "1.5.0",
            "_view_name": "HBoxView",
            "box_style": "",
            "children": [
              "IPY_MODEL_06defde212594ae0b3521de3708652fc",
              "IPY_MODEL_01b71fc490614a9d83a397cad96c0a54",
              "IPY_MODEL_4670d369c63b486fadfaa5aa13b6cf0c"
            ],
            "layout": "IPY_MODEL_56c461675f2e484b9f2300cca424f9f4"
          }
        },
        "bee18892309245d29a8b6627198ce9a3": {
          "model_module": "@jupyter-widgets/controls",
          "model_module_version": "1.5.0",
          "model_name": "FloatProgressModel",
          "state": {
            "_dom_classes": [],
            "_model_module": "@jupyter-widgets/controls",
            "_model_module_version": "1.5.0",
            "_model_name": "FloatProgressModel",
            "_view_count": null,
            "_view_module": "@jupyter-widgets/controls",
            "_view_module_version": "1.5.0",
            "_view_name": "ProgressView",
            "bar_style": "success",
            "description": "",
            "description_tooltip": null,
            "layout": "IPY_MODEL_011232d5bde84c109a9a88d2df729973",
            "max": 8862,
            "min": 0,
            "orientation": "horizontal",
            "style": "IPY_MODEL_8013396cebc9402da72335d0a607d20a",
            "value": 8862
          }
        },
        "bff99cc589f448b0ac84d2b6dbf983ed": {
          "model_module": "@jupyter-widgets/controls",
          "model_module_version": "1.5.0",
          "model_name": "HBoxModel",
          "state": {
            "_dom_classes": [],
            "_model_module": "@jupyter-widgets/controls",
            "_model_module_version": "1.5.0",
            "_model_name": "HBoxModel",
            "_view_count": null,
            "_view_module": "@jupyter-widgets/controls",
            "_view_module_version": "1.5.0",
            "_view_name": "HBoxView",
            "box_style": "",
            "children": [
              "IPY_MODEL_c756018ef03b4b4daecada60ba262aa6",
              "IPY_MODEL_7b06a3e96ac24ba398b8c99a7083b542",
              "IPY_MODEL_cf23c39d49274508914620de53c9136c"
            ],
            "layout": "IPY_MODEL_62fad522e25c45639f9ba46a37d2c08c"
          }
        },
        "c0d23a44412f4950a84ebff02cd56dae": {
          "model_module": "@jupyter-widgets/controls",
          "model_module_version": "1.5.0",
          "model_name": "ProgressStyleModel",
          "state": {
            "_model_module": "@jupyter-widgets/controls",
            "_model_module_version": "1.5.0",
            "_model_name": "ProgressStyleModel",
            "_view_count": null,
            "_view_module": "@jupyter-widgets/base",
            "_view_module_version": "1.2.0",
            "_view_name": "StyleView",
            "bar_color": null,
            "description_width": ""
          }
        },
        "c225ec73f22c4717972b33b57037a053": {
          "model_module": "@jupyter-widgets/base",
          "model_module_version": "1.2.0",
          "model_name": "LayoutModel",
          "state": {
            "_model_module": "@jupyter-widgets/base",
            "_model_module_version": "1.2.0",
            "_model_name": "LayoutModel",
            "_view_count": null,
            "_view_module": "@jupyter-widgets/base",
            "_view_module_version": "1.2.0",
            "_view_name": "LayoutView",
            "align_content": null,
            "align_items": null,
            "align_self": null,
            "border": null,
            "bottom": null,
            "display": null,
            "flex": null,
            "flex_flow": null,
            "grid_area": null,
            "grid_auto_columns": null,
            "grid_auto_flow": null,
            "grid_auto_rows": null,
            "grid_column": null,
            "grid_gap": null,
            "grid_row": null,
            "grid_template_areas": null,
            "grid_template_columns": null,
            "grid_template_rows": null,
            "height": null,
            "justify_content": null,
            "justify_items": null,
            "left": null,
            "margin": null,
            "max_height": null,
            "max_width": null,
            "min_height": null,
            "min_width": null,
            "object_fit": null,
            "object_position": null,
            "order": null,
            "overflow": null,
            "overflow_x": null,
            "overflow_y": null,
            "padding": null,
            "right": null,
            "top": null,
            "visibility": null,
            "width": null
          }
        },
        "c385ed1da62c4093a3e164e83899cf5b": {
          "model_module": "@jupyter-widgets/base",
          "model_module_version": "1.2.0",
          "model_name": "LayoutModel",
          "state": {
            "_model_module": "@jupyter-widgets/base",
            "_model_module_version": "1.2.0",
            "_model_name": "LayoutModel",
            "_view_count": null,
            "_view_module": "@jupyter-widgets/base",
            "_view_module_version": "1.2.0",
            "_view_name": "LayoutView",
            "align_content": null,
            "align_items": null,
            "align_self": null,
            "border": null,
            "bottom": null,
            "display": null,
            "flex": null,
            "flex_flow": null,
            "grid_area": null,
            "grid_auto_columns": null,
            "grid_auto_flow": null,
            "grid_auto_rows": null,
            "grid_column": null,
            "grid_gap": null,
            "grid_row": null,
            "grid_template_areas": null,
            "grid_template_columns": null,
            "grid_template_rows": null,
            "height": null,
            "justify_content": null,
            "justify_items": null,
            "left": null,
            "margin": null,
            "max_height": null,
            "max_width": null,
            "min_height": null,
            "min_width": null,
            "object_fit": null,
            "object_position": null,
            "order": null,
            "overflow": null,
            "overflow_x": null,
            "overflow_y": null,
            "padding": null,
            "right": null,
            "top": null,
            "visibility": null,
            "width": null
          }
        },
        "c541c9d2a66442f899ba111ece7efbe7": {
          "model_module": "@jupyter-widgets/base",
          "model_module_version": "1.2.0",
          "model_name": "LayoutModel",
          "state": {
            "_model_module": "@jupyter-widgets/base",
            "_model_module_version": "1.2.0",
            "_model_name": "LayoutModel",
            "_view_count": null,
            "_view_module": "@jupyter-widgets/base",
            "_view_module_version": "1.2.0",
            "_view_name": "LayoutView",
            "align_content": null,
            "align_items": null,
            "align_self": null,
            "border": null,
            "bottom": null,
            "display": null,
            "flex": null,
            "flex_flow": null,
            "grid_area": null,
            "grid_auto_columns": null,
            "grid_auto_flow": null,
            "grid_auto_rows": null,
            "grid_column": null,
            "grid_gap": null,
            "grid_row": null,
            "grid_template_areas": null,
            "grid_template_columns": null,
            "grid_template_rows": null,
            "height": null,
            "justify_content": null,
            "justify_items": null,
            "left": null,
            "margin": null,
            "max_height": null,
            "max_width": null,
            "min_height": null,
            "min_width": null,
            "object_fit": null,
            "object_position": null,
            "order": null,
            "overflow": null,
            "overflow_x": null,
            "overflow_y": null,
            "padding": null,
            "right": null,
            "top": null,
            "visibility": null,
            "width": null
          }
        },
        "c756018ef03b4b4daecada60ba262aa6": {
          "model_module": "@jupyter-widgets/controls",
          "model_module_version": "1.5.0",
          "model_name": "HTMLModel",
          "state": {
            "_dom_classes": [],
            "_model_module": "@jupyter-widgets/controls",
            "_model_module_version": "1.5.0",
            "_model_name": "HTMLModel",
            "_view_count": null,
            "_view_module": "@jupyter-widgets/controls",
            "_view_module_version": "1.5.0",
            "_view_name": "HTMLView",
            "description": "",
            "description_tooltip": null,
            "layout": "IPY_MODEL_4b3741da70954f62b8effac355897645",
            "placeholder": "​",
            "style": "IPY_MODEL_d08dc2625dfe44a4a1c466198076cfc0",
            "value": "Downloading builder script: 100%"
          }
        },
        "cd337499be7d49e9bddaec0b2729ed12": {
          "model_module": "@jupyter-widgets/controls",
          "model_module_version": "1.5.0",
          "model_name": "DescriptionStyleModel",
          "state": {
            "_model_module": "@jupyter-widgets/controls",
            "_model_module_version": "1.5.0",
            "_model_name": "DescriptionStyleModel",
            "_view_count": null,
            "_view_module": "@jupyter-widgets/base",
            "_view_module_version": "1.2.0",
            "_view_name": "StyleView",
            "description_width": ""
          }
        },
        "cf23c39d49274508914620de53c9136c": {
          "model_module": "@jupyter-widgets/controls",
          "model_module_version": "1.5.0",
          "model_name": "HTMLModel",
          "state": {
            "_dom_classes": [],
            "_model_module": "@jupyter-widgets/controls",
            "_model_module_version": "1.5.0",
            "_model_name": "HTMLModel",
            "_view_count": null,
            "_view_module": "@jupyter-widgets/controls",
            "_view_module_version": "1.5.0",
            "_view_name": "HTMLView",
            "description": "",
            "description_tooltip": null,
            "layout": "IPY_MODEL_161be74c23fd483aa2394bd945fbb915",
            "placeholder": "​",
            "style": "IPY_MODEL_49a35c74651747b5aaa8eac8f882df0d",
            "value": " 6.04k/6.04k [00:00&lt;00:00, 409kB/s]"
          }
        },
        "d08dc2625dfe44a4a1c466198076cfc0": {
          "model_module": "@jupyter-widgets/controls",
          "model_module_version": "1.5.0",
          "model_name": "DescriptionStyleModel",
          "state": {
            "_model_module": "@jupyter-widgets/controls",
            "_model_module_version": "1.5.0",
            "_model_name": "DescriptionStyleModel",
            "_view_count": null,
            "_view_module": "@jupyter-widgets/base",
            "_view_module_version": "1.2.0",
            "_view_name": "StyleView",
            "description_width": ""
          }
        },
        "d95f957157da4012aabdca0005ec6e03": {
          "model_module": "@jupyter-widgets/controls",
          "model_module_version": "1.5.0",
          "model_name": "HTMLModel",
          "state": {
            "_dom_classes": [],
            "_model_module": "@jupyter-widgets/controls",
            "_model_module_version": "1.5.0",
            "_model_name": "HTMLModel",
            "_view_count": null,
            "_view_module": "@jupyter-widgets/controls",
            "_view_module_version": "1.5.0",
            "_view_name": "HTMLView",
            "description": "",
            "description_tooltip": null,
            "layout": "IPY_MODEL_fcb6b02be5724ae4a6411f1575673190",
            "placeholder": "​",
            "style": "IPY_MODEL_63d1226bbaa045b2b35fd81276d4f5a4",
            "value": " 8.86k/8.86k [00:00&lt;00:00, 104kB/s]"
          }
        },
        "dc6a45ff67b64207ba30929f30eb57d2": {
          "model_module": "@jupyter-widgets/controls",
          "model_module_version": "1.5.0",
          "model_name": "DescriptionStyleModel",
          "state": {
            "_model_module": "@jupyter-widgets/controls",
            "_model_module_version": "1.5.0",
            "_model_name": "DescriptionStyleModel",
            "_view_count": null,
            "_view_module": "@jupyter-widgets/base",
            "_view_module_version": "1.2.0",
            "_view_name": "StyleView",
            "description_width": ""
          }
        },
        "dc788ef786d5462ea0b1d22f08f00f33": {
          "model_module": "@jupyter-widgets/base",
          "model_module_version": "1.2.0",
          "model_name": "LayoutModel",
          "state": {
            "_model_module": "@jupyter-widgets/base",
            "_model_module_version": "1.2.0",
            "_model_name": "LayoutModel",
            "_view_count": null,
            "_view_module": "@jupyter-widgets/base",
            "_view_module_version": "1.2.0",
            "_view_name": "LayoutView",
            "align_content": null,
            "align_items": null,
            "align_self": null,
            "border": null,
            "bottom": null,
            "display": null,
            "flex": null,
            "flex_flow": null,
            "grid_area": null,
            "grid_auto_columns": null,
            "grid_auto_flow": null,
            "grid_auto_rows": null,
            "grid_column": null,
            "grid_gap": null,
            "grid_row": null,
            "grid_template_areas": null,
            "grid_template_columns": null,
            "grid_template_rows": null,
            "height": null,
            "justify_content": null,
            "justify_items": null,
            "left": null,
            "margin": null,
            "max_height": null,
            "max_width": null,
            "min_height": null,
            "min_width": null,
            "object_fit": null,
            "object_position": null,
            "order": null,
            "overflow": null,
            "overflow_x": null,
            "overflow_y": null,
            "padding": null,
            "right": null,
            "top": null,
            "visibility": null,
            "width": null
          }
        },
        "e3176a28263f4c5fb61916663a2736e6": {
          "model_module": "@jupyter-widgets/base",
          "model_module_version": "1.2.0",
          "model_name": "LayoutModel",
          "state": {
            "_model_module": "@jupyter-widgets/base",
            "_model_module_version": "1.2.0",
            "_model_name": "LayoutModel",
            "_view_count": null,
            "_view_module": "@jupyter-widgets/base",
            "_view_module_version": "1.2.0",
            "_view_name": "LayoutView",
            "align_content": null,
            "align_items": null,
            "align_self": null,
            "border": null,
            "bottom": null,
            "display": null,
            "flex": null,
            "flex_flow": null,
            "grid_area": null,
            "grid_auto_columns": null,
            "grid_auto_flow": null,
            "grid_auto_rows": null,
            "grid_column": null,
            "grid_gap": null,
            "grid_row": null,
            "grid_template_areas": null,
            "grid_template_columns": null,
            "grid_template_rows": null,
            "height": null,
            "justify_content": null,
            "justify_items": null,
            "left": null,
            "margin": null,
            "max_height": null,
            "max_width": null,
            "min_height": null,
            "min_width": null,
            "object_fit": null,
            "object_position": null,
            "order": null,
            "overflow": null,
            "overflow_x": null,
            "overflow_y": null,
            "padding": null,
            "right": null,
            "top": null,
            "visibility": null,
            "width": null
          }
        },
        "e31f51ac8d5b43c68a5e98742be80a8e": {
          "model_module": "@jupyter-widgets/base",
          "model_module_version": "1.2.0",
          "model_name": "LayoutModel",
          "state": {
            "_model_module": "@jupyter-widgets/base",
            "_model_module_version": "1.2.0",
            "_model_name": "LayoutModel",
            "_view_count": null,
            "_view_module": "@jupyter-widgets/base",
            "_view_module_version": "1.2.0",
            "_view_name": "LayoutView",
            "align_content": null,
            "align_items": null,
            "align_self": null,
            "border": null,
            "bottom": null,
            "display": null,
            "flex": null,
            "flex_flow": null,
            "grid_area": null,
            "grid_auto_columns": null,
            "grid_auto_flow": null,
            "grid_auto_rows": null,
            "grid_column": null,
            "grid_gap": null,
            "grid_row": null,
            "grid_template_areas": null,
            "grid_template_columns": null,
            "grid_template_rows": null,
            "height": null,
            "justify_content": null,
            "justify_items": null,
            "left": null,
            "margin": null,
            "max_height": null,
            "max_width": null,
            "min_height": null,
            "min_width": null,
            "object_fit": null,
            "object_position": null,
            "order": null,
            "overflow": null,
            "overflow_x": null,
            "overflow_y": null,
            "padding": null,
            "right": null,
            "top": null,
            "visibility": null,
            "width": null
          }
        },
        "edb3c6d32d0a43ac89558e779145201f": {
          "model_module": "@jupyter-widgets/controls",
          "model_module_version": "1.5.0",
          "model_name": "DescriptionStyleModel",
          "state": {
            "_model_module": "@jupyter-widgets/controls",
            "_model_module_version": "1.5.0",
            "_model_name": "DescriptionStyleModel",
            "_view_count": null,
            "_view_module": "@jupyter-widgets/base",
            "_view_module_version": "1.2.0",
            "_view_name": "StyleView",
            "description_width": ""
          }
        },
        "edf8a02122b4473da73b5108f5ca474e": {
          "model_module": "@jupyter-widgets/controls",
          "model_module_version": "1.5.0",
          "model_name": "FloatProgressModel",
          "state": {
            "_dom_classes": [],
            "_model_module": "@jupyter-widgets/controls",
            "_model_module_version": "1.5.0",
            "_model_name": "FloatProgressModel",
            "_view_count": null,
            "_view_module": "@jupyter-widgets/controls",
            "_view_module_version": "1.5.0",
            "_view_name": "ProgressView",
            "bar_style": "",
            "description": "",
            "description_tooltip": null,
            "layout": "IPY_MODEL_c385ed1da62c4093a3e164e83899cf5b",
            "max": 3453,
            "min": 0,
            "orientation": "horizontal",
            "style": "IPY_MODEL_f7dfe663aa6c468594a893b21b542688",
            "value": 3453
          }
        },
        "f260e7c2eb6c4700a315acc5d7ed88cf": {
          "model_module": "@jupyter-widgets/base",
          "model_module_version": "1.2.0",
          "model_name": "LayoutModel",
          "state": {
            "_model_module": "@jupyter-widgets/base",
            "_model_module_version": "1.2.0",
            "_model_name": "LayoutModel",
            "_view_count": null,
            "_view_module": "@jupyter-widgets/base",
            "_view_module_version": "1.2.0",
            "_view_name": "LayoutView",
            "align_content": null,
            "align_items": null,
            "align_self": null,
            "border": null,
            "bottom": null,
            "display": null,
            "flex": null,
            "flex_flow": null,
            "grid_area": null,
            "grid_auto_columns": null,
            "grid_auto_flow": null,
            "grid_auto_rows": null,
            "grid_column": null,
            "grid_gap": null,
            "grid_row": null,
            "grid_template_areas": null,
            "grid_template_columns": null,
            "grid_template_rows": null,
            "height": null,
            "justify_content": null,
            "justify_items": null,
            "left": null,
            "margin": null,
            "max_height": null,
            "max_width": null,
            "min_height": null,
            "min_width": null,
            "object_fit": null,
            "object_position": null,
            "order": null,
            "overflow": null,
            "overflow_x": null,
            "overflow_y": null,
            "padding": null,
            "right": null,
            "top": null,
            "visibility": null,
            "width": null
          }
        },
        "f40bf831875748258029f998cdc4085f": {
          "model_module": "@jupyter-widgets/base",
          "model_module_version": "1.2.0",
          "model_name": "LayoutModel",
          "state": {
            "_model_module": "@jupyter-widgets/base",
            "_model_module_version": "1.2.0",
            "_model_name": "LayoutModel",
            "_view_count": null,
            "_view_module": "@jupyter-widgets/base",
            "_view_module_version": "1.2.0",
            "_view_name": "LayoutView",
            "align_content": null,
            "align_items": null,
            "align_self": null,
            "border": null,
            "bottom": null,
            "display": null,
            "flex": null,
            "flex_flow": null,
            "grid_area": null,
            "grid_auto_columns": null,
            "grid_auto_flow": null,
            "grid_auto_rows": null,
            "grid_column": null,
            "grid_gap": null,
            "grid_row": null,
            "grid_template_areas": null,
            "grid_template_columns": null,
            "grid_template_rows": null,
            "height": null,
            "justify_content": null,
            "justify_items": null,
            "left": null,
            "margin": null,
            "max_height": null,
            "max_width": null,
            "min_height": null,
            "min_width": null,
            "object_fit": null,
            "object_position": null,
            "order": null,
            "overflow": null,
            "overflow_x": null,
            "overflow_y": null,
            "padding": null,
            "right": null,
            "top": null,
            "visibility": null,
            "width": null
          }
        },
        "f7dfe663aa6c468594a893b21b542688": {
          "model_module": "@jupyter-widgets/controls",
          "model_module_version": "1.5.0",
          "model_name": "ProgressStyleModel",
          "state": {
            "_model_module": "@jupyter-widgets/controls",
            "_model_module_version": "1.5.0",
            "_model_name": "ProgressStyleModel",
            "_view_count": null,
            "_view_module": "@jupyter-widgets/base",
            "_view_module_version": "1.2.0",
            "_view_name": "StyleView",
            "bar_color": null,
            "description_width": ""
          }
        },
        "f91426d9b5814f1aa179aa21798be269": {
          "model_module": "@jupyter-widgets/base",
          "model_module_version": "1.2.0",
          "model_name": "LayoutModel",
          "state": {
            "_model_module": "@jupyter-widgets/base",
            "_model_module_version": "1.2.0",
            "_model_name": "LayoutModel",
            "_view_count": null,
            "_view_module": "@jupyter-widgets/base",
            "_view_module_version": "1.2.0",
            "_view_name": "LayoutView",
            "align_content": null,
            "align_items": null,
            "align_self": null,
            "border": null,
            "bottom": null,
            "display": null,
            "flex": null,
            "flex_flow": null,
            "grid_area": null,
            "grid_auto_columns": null,
            "grid_auto_flow": null,
            "grid_auto_rows": null,
            "grid_column": null,
            "grid_gap": null,
            "grid_row": null,
            "grid_template_areas": null,
            "grid_template_columns": null,
            "grid_template_rows": null,
            "height": null,
            "justify_content": null,
            "justify_items": null,
            "left": null,
            "margin": null,
            "max_height": null,
            "max_width": null,
            "min_height": null,
            "min_width": null,
            "object_fit": null,
            "object_position": null,
            "order": null,
            "overflow": null,
            "overflow_x": null,
            "overflow_y": null,
            "padding": null,
            "right": null,
            "top": null,
            "visibility": null,
            "width": null
          }
        },
        "fcb6b02be5724ae4a6411f1575673190": {
          "model_module": "@jupyter-widgets/base",
          "model_module_version": "1.2.0",
          "model_name": "LayoutModel",
          "state": {
            "_model_module": "@jupyter-widgets/base",
            "_model_module_version": "1.2.0",
            "_model_name": "LayoutModel",
            "_view_count": null,
            "_view_module": "@jupyter-widgets/base",
            "_view_module_version": "1.2.0",
            "_view_name": "LayoutView",
            "align_content": null,
            "align_items": null,
            "align_self": null,
            "border": null,
            "bottom": null,
            "display": null,
            "flex": null,
            "flex_flow": null,
            "grid_area": null,
            "grid_auto_columns": null,
            "grid_auto_flow": null,
            "grid_auto_rows": null,
            "grid_column": null,
            "grid_gap": null,
            "grid_row": null,
            "grid_template_areas": null,
            "grid_template_columns": null,
            "grid_template_rows": null,
            "height": null,
            "justify_content": null,
            "justify_items": null,
            "left": null,
            "margin": null,
            "max_height": null,
            "max_width": null,
            "min_height": null,
            "min_width": null,
            "object_fit": null,
            "object_position": null,
            "order": null,
            "overflow": null,
            "overflow_x": null,
            "overflow_y": null,
            "padding": null,
            "right": null,
            "top": null,
            "visibility": null,
            "width": null
          }
        }
      }
    }
  },
  "nbformat": 4,
  "nbformat_minor": 0
}
